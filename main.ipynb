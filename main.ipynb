{
 "cells": [
  {
   "cell_type": "markdown",
   "metadata": {},
   "source": [
    "# Conditionnal Bernoulli"
   ]
  },
  {
   "cell_type": "markdown",
   "metadata": {},
   "source": [
    "## question 1"
   ]
  },
  {
   "cell_type": "markdown",
   "metadata": {},
   "source": [
    "`définition des objet`  \n",
    "Let $N$ be a natural number, and consider the probability vector $p = (p_1, p_2, \\dots, p_N)$ where each $p_i$ belongs to the interval $(0,1)$ for  $i = 1, \\dots, N$.  \n",
    "The sample space is given by $\\Omega = \\{0,1\\}^N.$  \n",
    "We assume that $I$ is an integer satisfying $I \\leq \\frac{N}{2}$.  \n",
    "Let $g$ be the probability density function of the random vector  \n",
    "$$\n",
    "(X_1, \\dots, X_N)\n",
    "$$\n",
    "where the $X_i$ are independent Bernoulli random variables $X_i \\sim \\mathsf{B}(p_i).$  \n",
    "Finally, let $f$ be the probability density function of  \n",
    "$$\n",
    "(X_1, \\dots, X_N) \\sim \\mathsf{CB}(p, I).\n",
    "$$  "
   ]
  },
  {
   "cell_type": "markdown",
   "metadata": {},
   "source": [
    "`justification du choix de ce que l'on fait`\n",
    "We will use the following proposition from the lecture :\n",
    "> Let $f$, $g$ be probability density functions (PDFs) such that  \n",
    "> \n",
    "> $$\n",
    "> f \\leq M g \\quad \\text{with } M \\geq 1.\n",
    "> $$\n",
    "> \n",
    "> ### Accept-Reject Algorithm\n",
    "> Repeat:  \n",
    "> 1. Draw $X \\sim g$ and $U \\sim U[0,1]$.  \n",
    "> 2. Until $U \\leq \\frac{f(X)}{M g(X)}$.\n",
    "> \n",
    "> ### Properties:\n",
    "> - $X \\sim f$ \n",
    "> - The number of draws until acceptance follows a **Geometric** distribution:  \n",
    ">   \n",
    ">   $$\n",
    ">   \\text{Geometric}(1/M).\n",
    ">   $$  \n",
    "\n",
    "This propriety can be used because $g$ does not cancel out `j'imagine que c'est comme ça que se dit ne s'annule pas` on $\\Omega$.  \n",
    "We choose the smallest possible $M$ in order to have as little draws as possible \n",
    "$$\n",
    "M = \\underset{x \\in \\Omega}{\\sup} \\; \\frac{f(x)}{g(x)}\n",
    "$$\n",
    "\n",
    "With such a $M$, in the algorithm, $X$ is rejected if and only if $f(X)$ is null. In other words, $X$ is rejected if and only if there is not exactly $I$ 1 in it. As such the algorithm can be simplified as:\n",
    "\n",
    "> ### Accept-Reject Algorithm\n",
    "> Repeat:  \n",
    "> 1. Draw $X \\sim g$\n",
    "> 2. Until $|| X|| _1 = I$.\n"
   ]
  },
  {
   "cell_type": "markdown",
   "metadata": {},
   "source": [
    "### algorithm du cours aucun changement"
   ]
  },
  {
   "cell_type": "code",
   "execution_count": 1,
   "metadata": {},
   "outputs": [],
   "source": [
    "import numpy as np\n",
    "import itertools"
   ]
  },
  {
   "cell_type": "code",
   "execution_count": 2,
   "metadata": {},
   "outputs": [],
   "source": [
    "def generate_sequences(N, I):\n",
    "    # Generate all combinations of I positions out of N\n",
    "    # This will give the indices of the positions that should be 1\n",
    "    positions = itertools.combinations(range(N), I)\n",
    "    \n",
    "    # Generate the sequences by setting the corresponding positions to 1\n",
    "    sequences = []\n",
    "    for pos in positions:\n",
    "        seq = np.zeros(N, dtype=int)  # Start with a list of all zeros\n",
    "        seq[list(pos)] = 1  # Set the specified positions to 1\n",
    "        sequences.append(seq)\n",
    "    \n",
    "    return np.array(sequences)\n",
    "\n",
    "\n",
    "def pdf_bernoulli(p):\n",
    "    def g(x):\n",
    "        return np.prod(np.where(x==1,p,1-p))\n",
    "    return g\n",
    "\n",
    "def pdf_cb(p,I):\n",
    "    g=pdf_bernoulli(p)\n",
    "    proba = 0\n",
    "    for x in generate_sequences(len(p),I):\n",
    "        proba=proba+g(x)\n",
    "    def f(x):\n",
    "        if sum(x) !=I:\n",
    "            return 0\n",
    "        else:\n",
    "            return g(x)/proba\n",
    "    return f"
   ]
  },
  {
   "cell_type": "code",
   "execution_count": 3,
   "metadata": {},
   "outputs": [],
   "source": [
    "def rejection_sampling(p,I,M,L):\n",
    "    samples =[]\n",
    "    g = pdf_bernoulli(p)\n",
    "    f = pdf_cb(p,I)\n",
    "    \n",
    "    while len(samples) < L:\n",
    "        X = np.array([np.random.binomial(1, p_i) for p_i in p])\n",
    "        U = np.random.uniform(0,1)\n",
    "        if U<=(f(X)/(g(X)*M)):\n",
    "            samples.append(X)\n",
    "    return np.array(samples)"
   ]
  },
  {
   "cell_type": "code",
   "execution_count": 4,
   "metadata": {},
   "outputs": [
    {
     "name": "stdout",
     "output_type": "stream",
     "text": [
      "[0.76084536 0.96560862 0.21866482]\n",
      "1.5866761258723607\n"
     ]
    },
    {
     "data": {
      "text/plain": [
       "array([0.92173, 0.99066, 0.08761])"
      ]
     },
     "execution_count": 4,
     "metadata": {},
     "output_type": "execute_result"
    }
   ],
   "source": [
    "N = 3\n",
    "I=2\n",
    "L=100000\n",
    "p = np.random.uniform(0,1,N)\n",
    "\n",
    "g = pdf_bernoulli(p)\n",
    "f = pdf_cb(p,I)\n",
    "M= 100\n",
    "for seq in generate_sequences(N,I):\n",
    "    pr=f(seq)/g(seq)\n",
    "    if pr<=M:\n",
    "        M=pr\n",
    "\n",
    "print(p)\n",
    "print(M)\n",
    "samples = rejection_sampling(p,I,M,L)\n",
    "np.mean(samples, axis = 0)\n"
   ]
  },
  {
   "cell_type": "markdown",
   "metadata": {},
   "source": [
    "### algorithm simplifié"
   ]
  },
  {
   "cell_type": "code",
   "execution_count": 5,
   "metadata": {},
   "outputs": [],
   "source": [
    "#méthode simple du on prends N binomial indépendante puis on vérifie si leurs somme est égal à I, si oui c'est bon, si non on recommence\n",
    "def rejection_sampling(p,I,L):\n",
    "    samples =[]\n",
    "    while len(samples) < L:\n",
    "        X = np.array([np.random.binomial(1, p_i) for p_i in p])\n",
    "        if X.sum() == I:\n",
    "            samples.append(X)\n",
    "    return np.array(samples)"
   ]
  },
  {
   "cell_type": "code",
   "execution_count": 6,
   "metadata": {},
   "outputs": [
    {
     "name": "stdout",
     "output_type": "stream",
     "text": [
      "[0.84400312 0.297513   0.13567604]\n"
     ]
    },
    {
     "data": {
      "text/plain": [
       "array([0.97992, 0.73573, 0.28435])"
      ]
     },
     "execution_count": 6,
     "metadata": {},
     "output_type": "execute_result"
    }
   ],
   "source": [
    "# évaluation de si cette méthode donne bien un truc binomial avec les bonne probas\n",
    "N = 3\n",
    "I=2\n",
    "L=100000\n",
    "p = np.random.uniform(0,1,N)\n",
    "print(p)\n",
    "samples = rejection_sampling(p,I,L)\n",
    "np.mean(samples, axis = 0)"
   ]
  },
  {
   "cell_type": "markdown",
   "metadata": {},
   "source": [
    "Ca ne marche vrmt pas, mais en fait les deux méthode revienne à la même chose car pour le M bien choisi on a U>f(x)/g(x)*M ssi f(x)=0 et donc il suffit de faire tourner des bernoulli jusqu'à qu'on ait un suite de bernoulli qui ait le bon nombre de 1"
   ]
  },
  {
   "cell_type": "markdown",
   "metadata": {},
   "source": [
    "### conclusion"
   ]
  },
  {
   "cell_type": "markdown",
   "metadata": {},
   "source": [
    "Ces deux algo (dont les résultats devraient, si j'ai pas fait d'erreur dans mon raisonnement, être exactement les même), il va falloir étudier les résultats prochainement."
   ]
  }
 ],
 "metadata": {
  "kernelspec": {
   "display_name": "Python 3",
   "language": "python",
   "name": "python3"
  },
  "language_info": {
   "codemirror_mode": {
    "name": "ipython",
    "version": 3
   },
   "file_extension": ".py",
   "mimetype": "text/x-python",
   "name": "python",
   "nbconvert_exporter": "python",
   "pygments_lexer": "ipython3",
   "version": "3.12.6"
  }
 },
 "nbformat": 4,
 "nbformat_minor": 2
}
