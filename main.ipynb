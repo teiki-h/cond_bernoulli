{
 "cells": [
  {
   "cell_type": "markdown",
   "metadata": {},
   "source": [
    "# Conditionnal Bernoulli"
   ]
  },
  {
   "cell_type": "markdown",
   "metadata": {},
   "source": [
    "## question 1"
   ]
  },
  {
   "cell_type": "markdown",
   "metadata": {},
   "source": [
    "`définition des objet`  \n",
    "Let $N$ be a natural number, and consider the probability vector $p = (p_1, p_2, \\dots, p_N)$ where each $p_i$ belongs to the interval $(0,1)$ for  $i = 1, \\dots, N$.  \n",
    "The sample space is given by $\\Omega = \\{0,1\\}^N.$  \n",
    "We assume that $I$ is an integer satisfying $I \\leq \\frac{N}{2}$.  \n",
    "Let $g$ be the probability density function of the random vector  \n",
    "$$\n",
    "(X_1, \\dots, X_N)\n",
    "$$\n",
    "where the $X_i$ are independent Bernoulli random variables $X_i \\sim \\mathsf{B}(p_i).$  \n",
    "Finally, let $f$ be the probability density function of  \n",
    "$$\n",
    "(X_1, \\dots, X_N) \\sim \\mathsf{CB}(p, I).\n",
    "$$  "
   ]
  },
  {
   "cell_type": "markdown",
   "metadata": {},
   "source": [
    "`justification du choix de ce que l'on fait`\n",
    "We will use the following proposition from the lecture :\n",
    "> Let $f$, $g$ be probability density functions (PDFs) such that the support of $g$ contains the support of $f$ and\n",
    "> \n",
    "> $$\n",
    "> f \\leq M g \\quad \\text{with } M \\geq 1.\n",
    "> $$\n",
    "> \n",
    "> ### Accept-Reject Algorithm\n",
    "> Repeat:  \n",
    "> 1. Draw $X \\sim g$ and $U \\sim U[0,1]$.  \n",
    "> 2. Until $U \\leq \\frac{f(X)}{M g(X)}$.\n",
    "> \n",
    "> ### Properties:\n",
    "> - $X \\sim f$ \n",
    "> - The number of draws until acceptance follows a **Geometric** distribution:  \n",
    ">   \n",
    ">   $$\n",
    ">   \\text{Geometric}(1/M).\n",
    ">   $$  \n",
    "\n",
    "This propriety can be used because $g$ does not cancel out `j'imagine que c'est comme ça que se dit ne s'annule pas` on $\\Omega$.  \n",
    "We choose the smallest possible $M$ in order to have as little draws as possible \n",
    "$$\n",
    "M = \\underset{x \\in \\Omega}{\\sup} \\; \\frac{f(x)}{g(x)}\n",
    "$$\n",
    "\n",
    "\n",
    "`Je ne suis pas sûr de ce que je dis après mais il est trop tard pour réfléchir`\n",
    "\n",
    "With such a $M$, in the algorithm, $X$ is rejected if and only if $f(X)$ is null. In other words, $X$ is rejected if and only if there is not exactly $I$ 1 in it. As such the algorithm can be simplified as:\n",
    "\n",
    "> ### Accept-Reject Algorithm\n",
    "> Repeat:  \n",
    "> 1. Draw $X \\sim g$\n",
    "> 2. Until $|| X|| _1 = I$.\n"
   ]
  },
  {
   "cell_type": "markdown",
   "metadata": {},
   "source": [
    "### algorithm du cours aucun changement"
   ]
  },
  {
   "cell_type": "code",
   "execution_count": 1,
   "metadata": {},
   "outputs": [],
   "source": [
    "import numpy as np\n",
    "import itertools"
   ]
  },
  {
   "cell_type": "code",
   "execution_count": 6,
   "metadata": {},
   "outputs": [],
   "source": [
    "class RejectionSampling:\n",
    "    def __init__(self, p, I, m=10000):  # Default value for m\n",
    "        self.p = p\n",
    "        self.I = I\n",
    "        self.N = len(p)\n",
    "        self.g = self.pdf_bernoulli(p)  # Bernoulli probability function\n",
    "        self.f = self.pdf_cb(p, I)  # Conditional probability function\n",
    "        self.M = self.compute_M(m)  # Compute M\n",
    "        self._sample= None\n",
    "\n",
    "    def compute_M(self, m):\n",
    "        \"\"\"Computes M based on given m and probability ratios\"\"\"\n",
    "        res = m\n",
    "        for seq in self.generate_sequences(self.N, self.I):  # Corrected N and I\n",
    "            pr = self.f(seq) / self.g(seq)  # Fix missing self.\n",
    "            if pr <= res:\n",
    "                res = pr\n",
    "        return res\n",
    "\n",
    "    def pdf_cb(self, p, I):\n",
    "        \"\"\"Computes a conditional probability function\"\"\"\n",
    "        g = self.pdf_bernoulli(p)\n",
    "        proba = 0\n",
    "        for x in self.generate_sequences(len(p), I):\n",
    "            proba += g(x)\n",
    "\n",
    "        def f(x):\n",
    "            return g(x) / proba if np.sum(x) == I else 0  # Use np.sum(x)\n",
    "\n",
    "        return f\n",
    "\n",
    "    @staticmethod\n",
    "    def generate_sequences(N, I):\n",
    "        \"\"\"Generates all binary sequences of length N with I ones\"\"\"\n",
    "        positions = itertools.combinations(range(N), I)\n",
    "        sequences = []\n",
    "        for pos in positions:\n",
    "            seq = np.zeros(N, dtype=int)  # Start with all zeros\n",
    "            seq[list(pos)] = 1  # Set the specified positions to 1\n",
    "            sequences.append(seq)\n",
    "        return np.array(sequences)\n",
    "\n",
    "    @staticmethod\n",
    "    def pdf_bernoulli(p):\n",
    "        \"\"\"Creates a Bernoulli probability function\"\"\"\n",
    "        def g(x):\n",
    "            return np.prod(np.where(x == 1, p, 1 - p))\n",
    "        return g\n",
    "    \n",
    "    def sample(self,L=1):\n",
    "        samples = []\n",
    "        while len(samples) < L:\n",
    "            X = np.array([np.random.binomial(1, p_i) for p_i in self.p])\n",
    "            U = np.random.uniform(0,1)\n",
    "            if U<=(self.f(X)/(self.g(X)*(self.M+0.5))):\n",
    "                samples.append(X)\n",
    "        self._sample=np.array(samples)\n",
    "        return np.array(samples)\n",
    "    \n"
   ]
  },
  {
   "cell_type": "code",
   "execution_count": 7,
   "metadata": {},
   "outputs": [],
   "source": [
    "rejection = RejectionSampling(np.array([.5,.25,.45,.78,.1,.8]),2)"
   ]
  },
  {
   "cell_type": "code",
   "execution_count": null,
   "metadata": {},
   "outputs": [],
   "source": [
    "def generate_sequences(N, I):\n",
    "    # Generate all combinations of I positions out of N\n",
    "    # This will give the indices of the positions that should be 1\n",
    "    positions = itertools.combinations(range(N), I)\n",
    "    \n",
    "    # Generate the sequences by setting the corresponding positions to 1\n",
    "    sequences = []\n",
    "    for pos in positions:\n",
    "        seq = np.zeros(N, dtype=int)  # Start with a list of all zeros\n",
    "        seq[list(pos)] = 1  # Set the specified positions to 1\n",
    "        sequences.append(seq)\n",
    "    \n",
    "    return np.array(sequences)\n",
    "\n",
    "\n",
    "def pdf_bernoulli(p):\n",
    "    def g(x):\n",
    "        return np.prod(np.where(x==1,p,1-p))\n",
    "    return g\n",
    "\n",
    "def pdf_cb(p,I):\n",
    "    g=pdf_bernoulli(p)\n",
    "    proba = 0\n",
    "    for x in generate_sequences(len(p),I):\n",
    "        proba=proba+g(x)\n",
    "    def f(x):\n",
    "        if sum(x) !=I:\n",
    "            return 0\n",
    "        else:\n",
    "            return g(x)/proba\n",
    "    return f"
   ]
  },
  {
   "cell_type": "code",
   "execution_count": 3,
   "metadata": {},
   "outputs": [],
   "source": [
    "def rejection_sampling(p,I,M,L):\n",
    "    samples =[]\n",
    "    g = pdf_bernoulli(p)\n",
    "    f = pdf_cb(p,I)\n",
    "    \n",
    "    while len(samples) < L:\n",
    "        X = np.array([np.random.binomial(1, p_i) for p_i in p])\n",
    "        U = np.random.uniform(0,1)\n",
    "        if U<=(f(X)/(g(X)*(M+0.5))):\n",
    "            samples.append(X)\n",
    "    return np.array(samples)"
   ]
  },
  {
   "cell_type": "code",
   "execution_count": 4,
   "metadata": {},
   "outputs": [
    {
     "name": "stdout",
     "output_type": "stream",
     "text": [
      "[0.98579461 0.90450562 0.33091814 0.38850484 0.48420812 0.26216353\n",
      " 0.20804913 0.35523267 0.4442211  0.74350317 0.19028161 0.28732861\n",
      " 0.63485561 0.22126845 0.27062426 0.72482066 0.84317296 0.37861926\n",
      " 0.09519849 0.93239711 0.27410838 0.33914277 0.97160981 0.15972198\n",
      " 0.4834197 ]\n",
      "381.6988840100144\n"
     ]
    },
    {
     "data": {
      "text/plain": [
       "array([0.93, 0.63, 0.11, 0.07, 0.09, 0.07, 0.02, 0.1 , 0.18, 0.31, 0.05,\n",
       "       0.05, 0.23, 0.03, 0.07, 0.38, 0.53, 0.08, 0.02, 0.84, 0.05, 0.1 ,\n",
       "       0.9 , 0.02, 0.14])"
      ]
     },
     "execution_count": 4,
     "metadata": {},
     "output_type": "execute_result"
    }
   ],
   "source": [
    "N = 25\n",
    "I=6\n",
    "L=100\n",
    "p = np.random.uniform(0,1,N)\n",
    "#p = np.array([0.5]*N)\n",
    "g = pdf_bernoulli(p)\n",
    "f = pdf_cb(p,I)\n",
    "M= 100000\n",
    "for seq in generate_sequences(N,I):\n",
    "    pr=f(seq)/g(seq)\n",
    "    if pr<=M:\n",
    "        M=pr\n",
    "\n",
    "print(p)\n",
    "print(M)\n",
    "samples = rejection_sampling(p,I,M,L)\n",
    "np.mean(samples, axis = 0)\n"
   ]
  },
  {
   "cell_type": "markdown",
   "metadata": {},
   "source": [
    "ci après la répartition qu'il devrait avoir; ça colle bien :"
   ]
  },
  {
   "cell_type": "code",
   "execution_count": 5,
   "metadata": {},
   "outputs": [],
   "source": [
    "proba_binom=[0]*N\n",
    "for seq in generate_sequences(N,I):\n",
    "    for i in range(N):\n",
    "        proba_binom[i]=proba_binom[i]+seq[i]*f(seq)"
   ]
  },
  {
   "cell_type": "code",
   "execution_count": 6,
   "metadata": {},
   "outputs": [
    {
     "data": {
      "text/plain": [
       "array([0.94278735, 0.67384812, 0.07909963, 0.10003919, 0.14296832,\n",
       "       0.05771242, 0.04311331, 0.08756489, 0.12360054, 0.359029  ,\n",
       "       0.03868577, 0.06513778, 0.24289939, 0.04651959, 0.06016059,\n",
       "       0.33515493, 0.52619813, 0.09621885, 0.0175743 , 0.75568855,\n",
       "       0.06118276, 0.08190533, 0.88889804, 0.03144939, 0.14256381])"
      ]
     },
     "execution_count": 6,
     "metadata": {},
     "output_type": "execute_result"
    }
   ],
   "source": [
    "np.array(proba_binom)"
   ]
  },
  {
   "cell_type": "markdown",
   "metadata": {},
   "source": [
    "### algorithm simplifié"
   ]
  },
  {
   "cell_type": "code",
   "execution_count": 7,
   "metadata": {},
   "outputs": [],
   "source": [
    "#méthode simple du on prends N binomial indépendante puis on vérifie si leurs somme est égal à I, si oui c'est bon, si non on recommence\n",
    "def rejection_sampling(p,I,L):\n",
    "    samples =[]\n",
    "    while len(samples) < L:\n",
    "        X = np.array([np.random.binomial(1, p_i) for p_i in p])\n",
    "        if X.sum() == I:\n",
    "            samples.append(X)\n",
    "    return np.array(samples)"
   ]
  },
  {
   "cell_type": "code",
   "execution_count": 8,
   "metadata": {},
   "outputs": [
    {
     "name": "stdout",
     "output_type": "stream",
     "text": [
      "[0.75369619 0.74696197 0.13564033]\n"
     ]
    },
    {
     "data": {
      "text/plain": [
       "array([0.949, 0.949, 0.102])"
      ]
     },
     "execution_count": 8,
     "metadata": {},
     "output_type": "execute_result"
    }
   ],
   "source": [
    "# évaluation de si cette méthode donne bien un truc binomial avec les bonne probas\n",
    "N = 3\n",
    "I=2\n",
    "L=1000\n",
    "p = np.random.uniform(0,1,N)\n",
    "f = pdf_cb(p,I)\n",
    "print(p)\n",
    "samples = rejection_sampling(p,I,L)\n",
    "np.mean(samples, axis = 0)"
   ]
  },
  {
   "cell_type": "code",
   "execution_count": 9,
   "metadata": {},
   "outputs": [
    {
     "data": {
      "text/plain": [
       "array([0.95356706, 0.95186747, 0.09456548])"
      ]
     },
     "execution_count": 9,
     "metadata": {},
     "output_type": "execute_result"
    }
   ],
   "source": [
    "proba_binom=[0]*N\n",
    "for seq in generate_sequences(N,I):\n",
    "    for i in range(N):\n",
    "        proba_binom[i]=proba_binom[i]+seq[i]*f(seq)\n",
    "np.array(proba_binom)"
   ]
  },
  {
   "cell_type": "markdown",
   "metadata": {},
   "source": [
    "### conclusion"
   ]
  },
  {
   "cell_type": "markdown",
   "metadata": {},
   "source": [
    "Ces deux algo (dont les résultats devraient, si j'ai pas fait d'erreur dans mon raisonnement, être exactement les même), il va falloir étudier les résultats prochainement."
   ]
  }
 ],
 "metadata": {
  "kernelspec": {
   "display_name": "Python 3",
   "language": "python",
   "name": "python3"
  },
  "language_info": {
   "codemirror_mode": {
    "name": "ipython",
    "version": 3
   },
   "file_extension": ".py",
   "mimetype": "text/x-python",
   "name": "python",
   "nbconvert_exporter": "python",
   "pygments_lexer": "ipython3",
   "version": "3.12.6"
  }
 },
 "nbformat": 4,
 "nbformat_minor": 2
}
