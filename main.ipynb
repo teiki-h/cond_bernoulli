{
 "cells": [
  {
   "cell_type": "markdown",
   "metadata": {},
   "source": [
    "# Conditionnal Bernoulli"
   ]
  },
  {
   "cell_type": "markdown",
   "metadata": {},
   "source": [
    "## question 1"
   ]
  },
  {
   "cell_type": "markdown",
   "metadata": {},
   "source": [
    "`définition des objet`  \n",
    "Let $N$ be an integer, and consider the probability vector $p = (p_1, p_2, \\dots, p_N)$ where each $p_i$ belongs to the interval $(0,1)$ for  $i = 1, \\dots, N$.  \n",
    "The sample space is given by $\\Omega = \\{0,1\\}^N.$  \n",
    "We assume that $I$ is an integer satisfying $I \\leq \\frac{N}{2}$.  \n",
    "Let $g$ be the probability density function of the random vector  \n",
    "$$\n",
    "(X_1, \\dots, X_N)\n",
    "$$\n",
    "where the $X_i$ are independent Bernoulli random variables $X_i \\sim \\mathsf{B}(p_i).$  \n",
    "Finally, let $f$ be the probability density function of  \n",
    "$$\n",
    "(X_1, \\dots, X_N) \\sim \\mathsf{CB}(p, I).\n",
    "$$  "
   ]
  },
  {
   "cell_type": "markdown",
   "metadata": {},
   "source": [
    "`justification du choix de ce que l'on fait`\n",
    "We will use the following proposition from the lecture :\n",
    "> Let $f$, $g$ be probability density functions (PDFs) such that the support of $g$ contains the support of $f$ and\n",
    "> \n",
    "> $$\n",
    "> f \\leq M g \\quad \\text{with } M \\geq 1.\n",
    "> $$\n",
    "> \n",
    "> ### Accept-Reject Algorithm\n",
    "> Repeat:  \n",
    "> 1. Draw $X \\sim g$ and $U \\sim U[0,1]$.  \n",
    "> 2. Until $U \\leq \\frac{f(X)}{M g(X)}$.\n",
    "> \n",
    "> ### Properties:\n",
    "> - $X \\sim f$ \n",
    "> - The number of draws until acceptance follows a **Geometric** distribution:  \n",
    ">   \n",
    ">   $$\n",
    ">   \\text{Geometric}(1/M).\n",
    ">   $$  \n",
    "\n",
    "This propriety can be used because $g$ does not cancel out `j'imagine que c'est comme ça que se dit ne s'annule pas` on $\\Omega$.  \n",
    "We choose the smallest possible $M$ in order to have as little draws as possible \n",
    "$$\n",
    "M = \\underset{x \\in \\Omega}{\\sup} \\; \\frac{f(x)}{g(x)}\n",
    "$$\n",
    "\n",
    "<u>Remark</u> : \n",
    "\n",
    "Because $N$ is fixed, that's actually a max. \n",
    "\n",
    "$$ M = \\underset{x \\in \\Omega}{\\max} \\; \\frac{f(x)}{g(x)}$$"
   ]
  },
  {
   "cell_type": "markdown",
   "metadata": {},
   "source": [
    "### algorithm du cours aucun changement"
   ]
  },
  {
   "cell_type": "code",
   "execution_count": 14,
   "metadata": {},
   "outputs": [],
   "source": [
    "import numpy as np\n",
    "import itertools\n",
    "import matplotlib.pyplot as plt\n",
    "from scipy.stats import geom\n",
    "from collections import deque"
   ]
  },
  {
   "cell_type": "markdown",
   "metadata": {},
   "source": [
    "`on mettra sûrement la classe dans un fichier .py pour que ça soit plus lisible`\n",
    "\n",
    "'Ne penses-tu pas qu'il faudrait iporter intertools comme \"import intertools as inter\" ? ça serait plus propre non ? '"
   ]
  },
  {
   "cell_type": "code",
   "execution_count": 4,
   "metadata": {},
   "outputs": [],
   "source": [
    "class RejectionSampling:\n",
    "    def __init__(self, p, I):  # Default value for m\n",
    "        self.p = p\n",
    "        self.I = I\n",
    "        self.N = len(p)\n",
    "        self.g = self.pdf_bernoulli(p)  # Bernoulli probability function\n",
    "        self.f = self.pdf_cb(p, I)  # Conditional probability function\n",
    "        self.M = self.compute_M(self)  # Compute M\n",
    "        self._sample = None\n",
    "        self._acceptances = None\n",
    "    \n",
    "    @staticmethod\n",
    "    def compute_M(self):\n",
    "        \"\"\"Computes M based on given m and probability ratios\"\"\"\n",
    "        res = 1\n",
    "        for seq in self.generate_sequences(self.N, self.I):  # Corrected N and I\n",
    "            pr = self.f(seq) / self.g(seq)  # Fix missing self.\n",
    "            if pr > res:\n",
    "                res = pr\n",
    "        return res\n",
    "\n",
    "    def pdf_cb(self, p, I):\n",
    "        \"\"\"Computes a conditional probability function\"\"\"\n",
    "        g = self.pdf_bernoulli(p)\n",
    "        proba = 0\n",
    "        for x in self.generate_sequences(len(p), I):\n",
    "            proba += g(x)\n",
    "\n",
    "        def f(x):\n",
    "            return g(x) / proba if np.sum(x) == I else 0  # Use np.sum(x)\n",
    "\n",
    "        return f\n",
    "\n",
    "    @staticmethod\n",
    "    def generate_sequences(N, I):\n",
    "        \"\"\"Generates all binary sequences of length N with I ones\"\"\"\n",
    "        positions = itertools.combinations(range(N), I)\n",
    "        sequences = []\n",
    "        for pos in positions:\n",
    "            seq = np.zeros(N, dtype=int)  # Start with all zeros\n",
    "            seq[list(pos)] = 1  # Set the specified positions to 1\n",
    "            sequences.append(seq)\n",
    "        return np.array(sequences)\n",
    "\n",
    "    @staticmethod\n",
    "    def pdf_bernoulli(p):\n",
    "        \"\"\"Creates a Bernoulli probability function\"\"\"\n",
    "        def g(x):\n",
    "            return np.prod(np.where(x == 1, p, 1 - p))\n",
    "        return g\n",
    "    \n",
    "    def sample(self,L=1):\n",
    "        samples = []\n",
    "        acceptances = []\n",
    "        while len(samples) < L:\n",
    "            attempt = 0\n",
    "            while True:\n",
    "                attempt += 1 \n",
    "                X = np.array([np.random.binomial(1, p_i) for p_i in self.p])\n",
    "                U = np.random.uniform(0,1)\n",
    "                if U<=(self.f(X)/(self.g(X)*(self.M))):\n",
    "                    samples.append(X)\n",
    "                    acceptances.append(attempt)\n",
    "                    break\n",
    "        self._sample=np.array(samples)\n",
    "        self._acceptances = np.array(acceptances)\n",
    "    \n",
    "    def plot_acceptance_density(self):\n",
    "        \"\"\"Plots the empirical density function and the theoretical Geometric(1/M) density.\"\"\"\n",
    "        if self._acceptances is None:\n",
    "            print(\"No samples generated yet. Run sample() first.\")\n",
    "            return\n",
    "\n",
    "        unique, counts = np.unique(self._acceptances, return_counts=True)\n",
    "        empirical_density = counts / np.sum(counts)  # Normalize to get probability values\n",
    "\n",
    "        # Theoretical geometric distribution with success probability 1/M\n",
    "        k_values = np.arange(1, max(unique) + 1)  # Range of values for plotting\n",
    "        theoretical_density = geom.pmf(k_values, 1 / self.M)  # Geometric PMF\n",
    "\n",
    "        plt.figure(figsize=(8, 5))\n",
    "        \n",
    "        # Empirical density as a bar plot\n",
    "        plt.bar(unique, empirical_density, width=0.8, color='b', alpha=0.7, edgecolor='black', label=\"Empirical Density\")\n",
    "        \n",
    "        # Theoretical geometric density as a line plot\n",
    "        plt.plot(k_values, theoretical_density, 'r-o', markersize=4, label=f\"Theoretical Geom(1/{self.M:.2f})\", linewidth=1)\n",
    "\n",
    "        plt.xlabel(\"Number of Attempts Before Acceptance\")\n",
    "        plt.ylabel(\"Probability Density\")\n",
    "        plt.title(\"Empirical vs Theoretical Density of Acceptance Attempts\")\n",
    "        plt.legend()\n",
    "        plt.grid(axis='y', linestyle='--', alpha=0.7)\n",
    "        plt.show()"
   ]
  },
  {
   "cell_type": "markdown",
   "metadata": {},
   "source": [
    "Pour $I$ fixer on va évaluer comment évolue $M$; pour ce fair on va considérer des $p_i$ uniforme sur $(0,1)$. On remarque que pour un $N$ donnée, $M$ va avoir des valeurs extrème essentiellement plus hautes que sa moyenne quartile etc.; pour plusieurs N, on va avoir une croissance des valeurs extrèmes M exponentielle; "
   ]
  },
  {
   "cell_type": "code",
   "execution_count": 5,
   "metadata": {},
   "outputs": [
    {
     "name": "stderr",
     "output_type": "stream",
     "text": [
      "/tmp/ipykernel_203151/3210251214.py:17: MatplotlibDeprecationWarning: The 'labels' parameter of boxplot() has been renamed 'tick_labels' since Matplotlib 3.9; support for the old name will be dropped in 3.11.\n",
      "  plt.boxplot(M_values_all, labels=[f'N={N}' for N in N_values])\n"
     ]
    },
    {
     "data": {
      "image/png": "[encoded data removed]",
      "text/plain": [
       "<Figure size 1000x600 with 1 Axes>"
      ]
     },
     "metadata": {},
     "output_type": "display_data"
    }
   ],
   "source": [
    "I = 2\n",
    "num_samples = 1000  # Number of samples to run\n",
    "N_values = [5]  # Different values for N\n",
    "M_values_all = []  # To hold M values for each N\n",
    "\n",
    "# Collect M values across multiple samples for different N\n",
    "for N in N_values:\n",
    "    M_values = []\n",
    "    for _ in range(num_samples):\n",
    "        p = np.random.uniform(0, 1, N)  # Generate random probabilities p\n",
    "        sampler = RejectionSampling(p, I)\n",
    "        M_values.append(sampler.M)\n",
    "    M_values_all.append(M_values)\n",
    "\n",
    "# Create a boxplot for each N\n",
    "plt.figure(figsize=(10, 6))\n",
    "plt.boxplot(M_values_all, labels=[f'N={N}' for N in N_values])\n",
    "plt.title('Boxplot of M Values for Different N')\n",
    "plt.ylabel('M')\n",
    "plt.xlabel('N')\n",
    "plt.show()"
   ]
  },
  {
   "cell_type": "code",
   "execution_count": 6,
   "metadata": {},
   "outputs": [
    {
     "name": "stderr",
     "output_type": "stream",
     "text": [
      "/tmp/ipykernel_203151/2752977224.py:17: MatplotlibDeprecationWarning: The 'labels' parameter of boxplot() has been renamed 'tick_labels' since Matplotlib 3.9; support for the old name will be dropped in 3.11.\n",
      "  plt.boxplot(M_values_all, labels=[f'N={N}' for N in N_values])\n"
     ]
    },
    {
     "data": {
      "image/png": "[encoded data removed]",
      "text/plain": [
       "<Figure size 1000x600 with 1 Axes>"
      ]
     },
     "metadata": {},
     "output_type": "display_data"
    }
   ],
   "source": [
    "I = 2\n",
    "num_samples = 10000  # Number of samples to run\n",
    "N_values = [5,6,7,8,9]  # Different values for N\n",
    "M_values_all = []  # To hold M values for each N\n",
    "\n",
    "# Collect M values across multiple samples for different N\n",
    "for N in N_values:\n",
    "    M_values = []\n",
    "    for _ in range(num_samples):\n",
    "        p = np.random.uniform(0, 1, N)  # Generate random probabilities p\n",
    "        sampler = RejectionSampling(p, I)\n",
    "        M_values.append(sampler.M)\n",
    "    M_values_all.append(M_values)\n",
    "\n",
    "# Create a boxplot for each N\n",
    "plt.figure(figsize=(10, 6))\n",
    "plt.boxplot(M_values_all, labels=[f'N={N}' for N in N_values])\n",
    "plt.title('Boxplot of M Values for Different N')\n",
    "plt.ylabel('M')\n",
    "plt.xlabel('N')\n",
    "plt.show()"
   ]
  },
  {
   "cell_type": "markdown",
   "metadata": {},
   "source": [
    "## Question 2\n",
    "\n",
    "implementation of the algorithm"
   ]
  },
  {
   "cell_type": "code",
   "execution_count": 7,
   "metadata": {},
   "outputs": [],
   "source": [
    "def sample_conditional_bernoulli(p , I : int):\n",
    "    \"\"\" Take as parametter a list or an array p, which represent the vector of probabilities\n",
    "     and an int I the bound for x_1+ ...+x_n\n",
    "    \"\"\"\n",
    "    \n",
    "    #initialization\n",
    "    p = np.array(p)\n",
    "    N = len(p)\n",
    "    q = np.zeros((I + 1, N))\n",
    "    \n",
    "    #first condition, if I =0, the conditionnal bernouilli is obviously a vector of 0, for all n in [N] ([N] = {1,...,N})\n",
    "    if I == 0:\n",
    "        return np.array([0 for k in range(N)])\n",
    "    else : \n",
    "\n",
    "        # first conditions (first raw is just the product of the probabilities)\n",
    "        for n in range(N):\n",
    "            q[0][n] = np.prod(1 - p[n:])\n",
    "\n",
    "        #the last row of the first column is just p_N\n",
    "        q[1][N - 1] = p[N - 1]\n",
    "\n",
    "        # filling of the probability matrix \n",
    "        for n in range(N - 2, -1, -1):\n",
    "            for i in range(1, min(I, N - n) + 1): #+1 because the first row is already made\n",
    "                q[i][n] = p[n] * q[i - 1][n + 1] + (1 - p[n]) * q[i][ n + 1 ]\n",
    "\n",
    "        # sampling\n",
    "        x = np.zeros(N, dtype=int)\n",
    "        for n in range(N):\n",
    "            if I > 0:\n",
    "                prob = q[I, n]\n",
    "                #condition for get exactly I x_n = 1 and not less\n",
    "                if n < N - I and prob !=0: # (actually, the second condition is always true for N finite)\n",
    "                    prob_if_one = p[n] * q[I - 1, n + 1] / prob\n",
    "                    if np.random.rand() < prob_if_one :#We add this ondition to obtain a random variable\n",
    "                        x[n] = 1\n",
    "                        I -=1\n",
    "                    else :\n",
    "                        x[n] = 0\n",
    "                else:\n",
    "                    x[n] = I\n",
    "                    I -= 1\n",
    "        return x"
   ]
  },
  {
   "cell_type": "code",
   "execution_count": 8,
   "metadata": {},
   "outputs": [
    {
     "data": {
      "text/plain": [
       "(0, array([0, 0, 0, 0, 0, 0, 0, 0, 0, 0]))"
      ]
     },
     "execution_count": 8,
     "metadata": {},
     "output_type": "execute_result"
    }
   ],
   "source": [
    "#test\n",
    "\n",
    "x = sample_conditional_bernoulli([1/2 for i in range(10)], 0)\n",
    "np.count_nonzero(x),x\n"
   ]
  },
  {
   "cell_type": "markdown",
   "metadata": {},
   "source": [
    "The construction of the matrix in our ‘sample_conditional_bernoulli’ function is of size $O(N^2)$. Indeed, we know that $I \\alpha N$ at most (because $I \\le \\frac N2$) and so, the double loop is indexed on $\\{1,... N-2\\}$, and then on $\\{1,...,I\\}$ ($I$ proportional to $N$) in the \"best\" case and in the \"worst\" case, the second loop is repeated $N-1$ times. Thus, the complexity of this loop is $O(N^2)$.\n",
    "\n",
    "For the second operation of the algorithm, we just get a loop on $\\{1, \\ldots, n\\}$, thus we get a complexity of $O(N)$.\n",
    "\n",
    "Therefore, we can conclude that the complexity is in order $O(N^2) + O(N) = O(N^2)$."
   ]
  },
  {
   "cell_type": "markdown",
   "metadata": {},
   "source": [
    "## Question 3\n",
    "\n",
    "Let's implement the MCMC (Markov Chain Monte Carlo).\n",
    "\n",
    "For this, we initialize a vector $X$ which respect the condition $\\sum_{i=1}^{N}X_i = I$ (for the moment, X is NOT random). After, if I isn't equal to $0$ or $N$ (because there is no random with that configuration), indeed, $P(X_n = k| \\sum_{i=1}^{N}X_i = N) = 0$ if $k \\ne 1$ and $=1$ if $k=1$. Symmetrically, we obviously get $P(X_n = k| \\sum_{i=1}^{N}X_i = 0) = 0$ if $k \\ne 0$ and $=1$ if $k=0$.\n",
    "\n",
    "Afterward, we just \"swap\" the different element of our vector $X$ with probability \"$\\min(1,\\frac{w_{i_0}}{w_{i_1}})$\" like it is indicated in the paper.\n",
    "\n",
    "In this algorithm,\n",
    "$(Y_i)_{i \\in [num iterations]}$ is a Markov Chain because $Y_i$ just depend on $Y_{i-1}$, for all $n$. Let's prove it. Let $Y_n = (Y_n^{(1)}, \\ldots, Y_n^{(N)})$ a random variable to $\\Omega' = \\big\\{x \\in \\Omega \\mid \\sum_{i=1}^Nx_i = I \\big\\}$ and $i \\in [N]$. Let also the set $I_n \\in [N]$ which represent the index $(i)$ where $Y_i^{(i)} = 1$, this set <u>just depend on $Y_i$</u>.\n",
    "\n",
    "Let $i \\in [N], k$ an integer :\n",
    "\n",
    "\\begin{align*}\n",
    "    P(Y_{k+1}^{(i)} = 1)&=P(Y_{k}^{(i)} = 0)[P(Y_{k+1}^{(i)} = 1| Y_{k}^{(i)} = 0)] + P(Y_{k}^{(i)} = 1)[P(Y_{k+1}^{(i)} = 1| Y_{k}^{(i)} = 1)]\\\\\n",
    "    &= \\frac{N-I}{N}[1-\\frac{1}{N-I}\\min(1, \\sum_{j\\in I_n} \\frac{1-p_i}{1-p_j})] + \\frac{I}{N}[1-P(Y_{k+1}^{(i)} = 0| Y_{k}^{(i)} = 1)] \\\\\n",
    "    & = \\frac{N-I}{N}[1-\\frac{1}{N-I}\\min(1, \\sum_{j\\in I_n} \\frac{1-p_i}{1-p_j})] + \\frac{I}{N}[1-\\frac 1I \\min(1, \\frac{\\sum_{i \\in I_n^c}1-p_j}{1-p_i})]\n",
    "\\end{align*}\n",
    "\n",
    "(Note that we could just left the value $P(Y_{k}^{(i)} = 0)$ to show the property)\n",
    "\n",
    "With the same reasoning on $P(Y_{k+1}^{(i)}=0)$, we can conclude that ($Y_i$) is a Markov chain, because it just depend on the previous values of $Y_{k-1}, \\ldots, Y_1$."
   ]
  },
  {
   "cell_type": "code",
   "execution_count": 90,
   "metadata": {},
   "outputs": [],
   "source": [
    "def mcmc_conditional_bernoulli(p, I : int, num_iterations : int):\n",
    "    p = np.array(p)\n",
    "    N = len(p)\n",
    "    # Let's make a X which respect the constraint sum X_i = I\n",
    "    X = np.zeros(N, dtype=int)\n",
    "    X[:I] = 1\n",
    "    np.random.shuffle(X)\n",
    "    odds = p / (1 - p)\n",
    "    S0 = list(np.where(X == 0)[0])\n",
    "    S1 = list(np.nonzero(X)[0])\n",
    "    \n",
    "    for nb_iter in range(num_iterations):\n",
    "        # random selection of 1 and 0\n",
    "        np.random.shuffle(S0)\n",
    "        np.random.shuffle(S1)\n",
    "\n",
    "        # let's take a random element of our index_0/1\n",
    "        i = S1.pop()\n",
    "        j = S0.pop()\n",
    "\n",
    "        # Compute the probability of acceptance\n",
    "        acceptance_prob = min(1, odds[j] / odds[i])\n",
    "\n",
    "        # reject or acceptance's swap\n",
    "        if np.random.rand() < acceptance_prob: # \"accept with probability acceptance_prob\"\n",
    "            X[i], X[j] = 0, 1\n",
    "            S0.append(i)\n",
    "            S1.append(j) \n",
    "        else : #restores origninals values else\n",
    "            S0.append(j)\n",
    "            S1.append(i)\n",
    "\n",
    "    return X"
   ]
  },
  {
   "cell_type": "code",
   "execution_count": 92,
   "metadata": {},
   "outputs": [
    {
     "data": {
      "text/plain": [
       "453"
      ]
     },
     "execution_count": 92,
     "metadata": {},
     "output_type": "execute_result"
    }
   ],
   "source": [
    "#test\n",
    "x = mcmc_conditional_bernoulli([1/2 for i in range(1_000)],453, 10_000) \n",
    "np.count_nonzero(x)"
   ]
  },
  {
   "cell_type": "markdown",
   "metadata": {},
   "source": [
    "#### Why does this algorithm works ? \n",
    "\n",
    "We already proved that $(Y_i)$ is a Markov Chain to $\\Omega'$. Let's suppose that $(Y_n) \\sim h$, we have $\\pi$ the target probability density of $(X_1, \\ldots X_N| \\sum_{i=1}^{N}X_i = I)$. To apply the Metropolis Hastings algorithm, we need to check out the conditions :\n",
    "\n",
    "(1) $(Y_i)$ is ergodic (irreducible, recurrent, positive, aperiodic) \n",
    "\n",
    "(2) reversibility : for all $x,y \\in \\Omega', h(x|y) = h(y|x)$, and thus, show that for all $x,y \\in \\{0,1\\}$, we have $\\pi(x)h(x|y) = \\pi(y)h(y|x)$\n",
    "\n",
    "Then, when we'll show this, we'll have shown that we have simulated the conditional Bernouilli, because $\\pi$ is the joint law of $X_1, \\ldots, X_n \\sim f, \\ldots X_N |\\sum_{i=1}^nX_i=I$, then we get the targeted density $f$ which is the $n^{th}$ component of $(Y_n)$. But $Y_i^{(n)}$ with (1) and (2) does converge (when $i \\to \\infty$) to $f$, thanks to the ergodic theorem, it will show that this algorithm is valide."
   ]
  },
  {
   "cell_type": "markdown",
   "metadata": {},
   "source": [
    "<u> Proof :</u>\n",
    "\n",
    "- (1) Because $N$ is finite, $\\Omega'$ is also finite and $(Y_i)$ is a Markov chain irreducible (clearly, because, all the state of $\\Omega'$ are available and communicate) to $\\Omega'$ finite. Thus we can say that ($Y_i$) is also recurrent and positive. Furthermore, for all state $x \\in \\Omega'$, we can find a period stay to this stat with probability not null, and thus our chain is aperiodic. Thus $(Y_i)$ is an ergodic Markov Chain and so does converge to it's invariant probability $\\pi$.\n",
    "\n",
    "- (2) $h$ is the probability density of $(Y_i)$, because the problem is symmetrical, that is clear that for all $x,y \\in \\Omega'$, we get \n",
    "\n",
    "$$h(x|y) = P(Y_{k+1} = x|Y_k = y) = P(Y_{k+1} = y|Y_k = x) = h(y|x)$$\n",
    "\n",
    "Thus, because $\\pi(x)$ is the density of $X_1, \\ldots, X_n | \\sum_{i=1}^nX_i=I$, we get $\\pi(x)\\alpha \\frac{dP_{X_1, \\ldots, X_n}(x,I)}{d \\mu \\otimes \\mu} \\alpha \\Pi_{i=1}^N p_i^{X_i}(1-p_i)^{1-X_i}$ ($I$ is a simplification but juste conditioned with $\\sum_{i=1}^nX_i=I$, $\\mu$ the counting measuring). So, we can now conclude because let $x,y \\in \\Omega'$, we get \n",
    "\n",
    "\\begin{align*}\n",
    "    \\pi(x)h(x|y) &= \\pi(y)h(y|x)\\\\\n",
    "    \\iff \\pi(x)&=\\pi(y)\\\\\n",
    "    \\iff \\frac{p_i^{X_i}(1-p_i)^{1-X_i}}{p_i^{X_i}(1-p_i)^{1-X_i}} &= 1\n",
    "\\end{align*}\n",
    "\n",
    "What is True, so, by the explanation after (1) and (2) in the previous markdown, we showed why this algorithms works."
   ]
  },
  {
   "cell_type": "markdown",
   "metadata": {},
   "source": [
    "#### How to asses the mixing of our chain $(Y_i)$ ?\n",
    "\n",
    "\n",
    "\n",
    "\n",
    "\n",
    "\n",
    "\n"
   ]
  },
  {
   "cell_type": "markdown",
   "metadata": {},
   "source": [
    "To asses the mixing of our Chain, and so, know if $(Y_i)$ visit well all the possible states, we can evaluate the meeting time of two chain $(Y_i), (\\tilde Y_i)$ and thus, determine the level of mixing of our algorithm. $ (\\tilde Y_i)$ start in an arbitrary state, different from $(Y_i)$. And then, compute the minimum time of meeting of those two chain. The main purpose of the paper is about a non identical distribution of $(p_1, \\ldots p_N)$ thus we'll compute the meeting time in this situation."
   ]
  },
  {
   "cell_type": "code",
   "execution_count": 19,
   "metadata": {},
   "outputs": [],
   "source": [
    "def swap_mcmc(x, y, p):\n",
    "    \"\"\"\n",
    "    return the swap of the function mcmc_conditional_bernoulli for just one iteration\n",
    "    \"\"\"\n",
    "    x, y = x.copy(), y.copy()\n",
    "    odds = p / (1 - p)\n",
    "    S0_x = list(np.where(x == 0)[0])\n",
    "    S1_x = list(np.where(x == 1)[0])\n",
    "    S0_y = list(np.where(y == 0)[0])\n",
    "    S1_y = list(np.where(y == 1)[0])\n",
    "\n",
    "    # Maximal coupling for i0\n",
    "    common_S0 = list(set(S0_x) & set(S0_y))\n",
    "    # Choose a random i, in common S_0 \n",
    "    if len(common_S0) > 0 and np.random.rand() < len(common_S0) / len(S0_x):\n",
    "        i0 = np.random.choice(common_S0) \n",
    "        j0 = i0\n",
    "    else:\n",
    "        i0 = np.random.choice(S0_x)\n",
    "        j0 = np.random.choice(S0_y)\n",
    "\n",
    "    # Maximal coupling for i1\n",
    "    common_S1 = list(set(S1_x) & set(S1_y))\n",
    "    if len(common_S1) > 0 and np.random.rand() < len(common_S1) / len(S1_x):\n",
    "        i1 = np.random.choice(common_S1)\n",
    "        j1 = i1\n",
    "    else:\n",
    "        i1 = np.random.choice(S1_x)\n",
    "        j1 = np.random.choice(S1_y)\n",
    "\n",
    "    u = np.random.rand()\n",
    "    if u < min(1, odds[i0] / odds[i1]):\n",
    "        x[i0], x[i1] = 1, 0\n",
    "    if u < min(1, odds[j0] / odds[j1]):\n",
    "        y[j0], y[j1] = 1, 0\n",
    "\n",
    "    return x, y\n",
    "\n",
    "\n",
    "\n",
    "def initial_state(I : int, N : int):\n",
    "    \"\"\" \n",
    "    generate random vector x which follow x_1+ ... + x_N = I\n",
    "    \"\"\"\n",
    "    x =np.array([1]*I + [0]*(N-I))\n",
    "    np.random.shuffle(x)\n",
    "    return x\n",
    "            \n",
    "def meeting_time(L : int, epsilon : float, M : int, I : int, p):\n",
    "    \"\"\"\n",
    "    Let L be the lag, epsilon the error, M the number of iteration, I like before\n",
    "    \"\"\"\n",
    "    p = np.array(p)\n",
    "    N = len(p)\n",
    "    meeting_time = np.array([])\n",
    "    for _ in range(M) :\n",
    "        x = initial_state(I,N)\n",
    "        y = initial_state(I,N)\n",
    "        tau = 0\n",
    "        while True :\n",
    "            x,y = swap_mcmc(x,y,p)\n",
    "            tau += 1\n",
    "            if np.array_equal(x, y): \n",
    "                meeting_time = np.append(meeting_time,tau)\n",
    "                break\n",
    "    t = 0\n",
    "    while True :\n",
    "        total_variation_t = np.mean([max(0, (tau_i - L - t) / L) for tau_i in meeting_times])\n",
    "        if total_variation_t <= epsilon :\n",
    "            return t\n",
    "        t +=1\n",
    "\n",
    "def probability_generator(N : int): \n",
    "    p = np.array([np.random.uniform(0,1, size=N)])\n",
    "    return p\n",
    "\n",
    "\n",
    "\n",
    "\n",
    "\n",
    "\n",
    "\n",
    "\n",
    "\n",
    "\n",
    "\n",
    "\n",
    "\n",
    "\n",
    "\n",
    "\n",
    "\n",
    "\n",
    "\n",
    "\n",
    "\n",
    "\n",
    "\n",
    "\n",
    "def mcmc_conditional_bernoulli_meeting_time(p, I : int, num_iterations : int):\n",
    "    p = np.array(p)\n",
    "    N = len(p)\n",
    "    # Let's make a X which respect the constraint sum X_i = I\n",
    "    X = np.zeros(N, dtype=int)\n",
    "    X[:I] = 1\n",
    "    np.random.shuffle(X)\n",
    "    odds = p / (1 - p)\n",
    "    S0 = list(np.where(X == 0)[0])\n",
    "    S1 = list(np.nonzero(X)[0])\n",
    "    samples = [X.copy()]\n",
    "    \n",
    "    for nb_iter in range(num_iterations):\n",
    "        # random selection of 1 and 0\n",
    "        np.random.shuffle(S0)\n",
    "        np.random.shuffle(S1) \n",
    "\n",
    "        # let's take a random element of our index_0/1\n",
    "        i = S1.pop()\n",
    "        j = S0.pop()\n",
    "\n",
    "        # Compute the probability of acceptance\n",
    "        acceptance_prob = min(1, odds[j] / odds[i])\n",
    "\n",
    "        # reject or acceptance's swap\n",
    "        if np.random.rand() < acceptance_prob: # \"accept with probability acceptance_prob\"\n",
    "            X[i], X[j] = 0, 1\n",
    "            S0.append(i)\n",
    "            S1.append(j)\n",
    "        else: #restore originals values\n",
    "            S1.append(i)\n",
    "            S0.append(j)\n",
    "        samples.append(X.copy()) \n",
    "\n",
    "    return np.array(samples)  \n",
    "\n",
    "\n"
   ]
  },
  {
   "cell_type": "code",
   "execution_count": null,
   "metadata": {},
   "outputs": [
    {
     "data": {
      "text/plain": [
       "np.float64(1.125)"
      ]
     },
     "execution_count": 18,
     "metadata": {},
     "output_type": "execute_result"
    }
   ],
   "source": [
    "#test : samples = [X.copy()]  # Collect samples \n",
    "\n",
    "\n",
    "\n",
    "a = np.array([1,2,3,4])\n",
    "\n",
    "np.mean((a+)\n"
   ]
  }
 ],
 "metadata": {
  "kernelspec": {
   "display_name": "base",
   "language": "python",
   "name": "python3"
  },
  "language_info": {
   "codemirror_mode": {
    "name": "ipython",
    "version": 3
   },
   "file_extension": ".py",
   "mimetype": "text/x-python",
   "name": "python",
   "nbconvert_exporter": "python",
   "pygments_lexer": "ipython3",
   "version": "3.12.9"
  }
 },
 "nbformat": 4,
 "nbformat_minor": 2
}
