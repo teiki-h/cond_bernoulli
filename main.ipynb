{
 "cells": [
  {
   "cell_type": "markdown",
   "metadata": {},
   "source": [
    "# Conditionnal Bernoulli"
   ]
  },
  {
   "cell_type": "markdown",
   "metadata": {},
   "source": [
    "## question 1"
   ]
  },
  {
   "cell_type": "markdown",
   "metadata": {},
   "source": [
    "`définition des objet`  \n",
    "Let $N$ be an integer, and consider the probability vector $p = (p_1, p_2, \\dots, p_N)$ where each $p_i$ belongs to the interval $(0,1)$ for  $i = 1, \\dots, N$.  \n",
    "The sample space is given by $\\Omega = \\{0,1\\}^N.$  \n",
    "We assume that $I$ is an integer satisfying $I \\leq \\frac{N}{2}$.  \n",
    "Let $g$ be the probability density function of the random vector  \n",
    "$$\n",
    "(X_1, \\dots, X_N)\n",
    "$$\n",
    "where the $X_i$ are independent Bernoulli random variables $X_i \\sim \\mathsf{B}(p_i).$  \n",
    "Finally, let $f$ be the probability density function of  \n",
    "$$\n",
    "(X_1, \\dots, X_N) \\sim \\mathsf{CB}(p, I).\n",
    "$$  "
   ]
  },
  {
   "cell_type": "markdown",
   "metadata": {},
   "source": [
    "`justification du choix de ce que l'on fait`\n",
    "We will use the following proposition from the lecture :\n",
    "> Let $f$, $g$ be probability density functions (PDFs) such that the support of $g$ contains the support of $f$ and\n",
    "> \n",
    "> $$\n",
    "> f \\leq M g \\quad \\text{with } M \\geq 1.\n",
    "> $$\n",
    "> \n",
    "> ### Accept-Reject Algorithm\n",
    "> Repeat:  \n",
    "> 1. Draw $X \\sim g$ and $U \\sim U[0,1]$.  \n",
    "> 2. Until $U \\leq \\frac{f(X)}{M g(X)}$.\n",
    "> \n",
    "> ### Properties:\n",
    "> - $X \\sim f$ \n",
    "> - The number of draws until acceptance follows a **Geometric** distribution:  \n",
    ">   \n",
    ">   $$\n",
    ">   \\text{Geometric}(1/M).\n",
    ">   $$  \n",
    "\n",
    "This propriety can be used because $g$ does not cancel out `j'imagine que c'est comme ça que se dit ne s'annule pas` on $\\Omega$.  \n",
    "We choose the smallest possible $M$ in order to have as little draws as possible \n",
    "$$\n",
    "M = \\underset{x \\in \\Omega}{\\sup} \\; \\frac{f(x)}{g(x)}\n",
    "$$\n",
    "\n",
    "<u>Remark</u> : \n",
    "\n",
    "Because $N$ is fixed, that's actually a max. \n",
    "\n",
    "$$ M = \\underset{x \\in \\Omega}{\\max} \\; \\frac{f(x)}{g(x)}$$"
   ]
  },
  {
   "cell_type": "markdown",
   "metadata": {},
   "source": [
    "### algorithm du cours aucun changement"
   ]
  },
  {
   "cell_type": "code",
   "execution_count": 1,
   "metadata": {},
   "outputs": [],
   "source": [
    "import numpy as np\n",
    "import itertools\n",
    "import matplotlib.pyplot as plt\n",
    "from scipy.stats import geom\n",
    "from collections import deque"
   ]
  },
  {
   "cell_type": "markdown",
   "metadata": {},
   "source": [
    "`on mettra sûrement la classe dans un fichier .py pour que ça soit plus lisible`\n",
    "\n",
    "'Ne penses-tu pas qu'il faudrait iporter intertools comme \"import intertools as inter\" ? ça serait plus propre non ? '"
   ]
  },
  {
   "cell_type": "code",
   "execution_count": 2,
   "metadata": {},
   "outputs": [],
   "source": [
    "class RejectionSampling:\n",
    "    def __init__(self, p, I):  # Default value for m\n",
    "        self.p = p\n",
    "        self.I = I\n",
    "        self.N = len(p)\n",
    "        self.g = self.pdf_bernoulli(p)  # Bernoulli probability function\n",
    "        self.f = self.pdf_cb(p, I)  # Conditional probability function\n",
    "        self.M = self.compute_M(self)  # Compute M\n",
    "        self._sample = None\n",
    "        self._acceptances = None\n",
    "    \n",
    "    @staticmethod\n",
    "    def compute_M(self):\n",
    "        \"\"\"Computes M based on given m and probability ratios\"\"\"\n",
    "        res = 1\n",
    "        for seq in self.generate_sequences(self.N, self.I):  # Corrected N and I\n",
    "            pr = self.f(seq) / self.g(seq)  # Fix missing self.\n",
    "            if pr > res:\n",
    "                res = pr\n",
    "        return res\n",
    "\n",
    "    def pdf_cb(self, p, I):\n",
    "        \"\"\"Computes a conditional probability function\"\"\"\n",
    "        g = self.pdf_bernoulli(p)\n",
    "        proba = 0\n",
    "        for x in self.generate_sequences(len(p), I):\n",
    "            proba += g(x)\n",
    "\n",
    "        def f(x):\n",
    "            return g(x) / proba if np.sum(x) == I else 0  # Use np.sum(x)\n",
    "\n",
    "        return f\n",
    "\n",
    "    @staticmethod\n",
    "    def generate_sequences(N, I):\n",
    "        \"\"\"Generates all binary sequences of length N with I ones\"\"\"\n",
    "        positions = itertools.combinations(range(N), I)\n",
    "        sequences = []\n",
    "        for pos in positions:\n",
    "            seq = np.zeros(N, dtype=int)  # Start with all zeros\n",
    "            seq[list(pos)] = 1  # Set the specified positions to 1\n",
    "            sequences.append(seq)\n",
    "        return np.array(sequences)\n",
    "\n",
    "    @staticmethod\n",
    "    def pdf_bernoulli(p):\n",
    "        \"\"\"Creates a Bernoulli probability function\"\"\"\n",
    "        def g(x):\n",
    "            return np.prod(np.where(x == 1, p, 1 - p))\n",
    "        return g\n",
    "    \n",
    "    def sample(self,L=1):\n",
    "        samples = []\n",
    "        acceptances = []\n",
    "        while len(samples) < L:\n",
    "            attempt = 0\n",
    "            while True:\n",
    "                attempt += 1 \n",
    "                X = np.array([np.random.binomial(1, p_i) for p_i in self.p])\n",
    "                U = np.random.uniform(0,1)\n",
    "                if U<=(self.f(X)/(self.g(X)*(self.M))):\n",
    "                    samples.append(X)\n",
    "                    acceptances.append(attempt)\n",
    "                    break\n",
    "        self._sample=np.array(samples)\n",
    "        self._acceptances = np.array(acceptances)\n",
    "    \n",
    "    def plot_acceptance_density(self):\n",
    "        \"\"\"Plots the empirical density function and the theoretical Geometric(1/M) density.\"\"\"\n",
    "        if self._acceptances is None:\n",
    "            print(\"No samples generated yet. Run sample() first.\")\n",
    "            return\n",
    "\n",
    "        unique, counts = np.unique(self._acceptances, return_counts=True)\n",
    "        empirical_density = counts / np.sum(counts)  # Normalize to get probability values\n",
    "\n",
    "        # Theoretical geometric distribution with success probability 1/M\n",
    "        k_values = np.arange(1, max(unique) + 1)  # Range of values for plotting\n",
    "        theoretical_density = geom.pmf(k_values, 1 / self.M)  # Geometric PMF\n",
    "\n",
    "        plt.figure(figsize=(8, 5))\n",
    "        \n",
    "        # Empirical density as a bar plot\n",
    "        plt.bar(unique, empirical_density, width=0.8, color='b', alpha=0.7, edgecolor='black', label=\"Empirical Density\")\n",
    "        \n",
    "        # Theoretical geometric density as a line plot\n",
    "        plt.plot(k_values, theoretical_density, 'r-o', markersize=4, label=f\"Theoretical Geom(1/{self.M:.2f})\", linewidth=1)\n",
    "\n",
    "        plt.xlabel(\"Number of Attempts Before Acceptance\")\n",
    "        plt.ylabel(\"Probability Density\")\n",
    "        plt.title(\"Empirical vs Theoretical Density of Acceptance Attempts\")\n",
    "        plt.legend()\n",
    "        plt.grid(axis='y', linestyle='--', alpha=0.7)\n",
    "        plt.show()"
   ]
  },
  {
   "cell_type": "markdown",
   "metadata": {},
   "source": [
    "Pour $I$ fixer on va évaluer comment évolue $M$; pour ce fair on va considérer des $p_i$ uniforme sur $(0,1)$. On remarque que pour un $N$ donnée, $M$ va avoir des valeurs extrème essentiellement plus hautes que sa moyenne quartile etc.; pour plusieurs N, on va avoir une croissance des valeurs extrèmes M exponentielle; "
   ]
  },
  {
   "cell_type": "code",
   "execution_count": 3,
   "metadata": {},
   "outputs": [
    {
     "name": "stderr",
     "output_type": "stream",
     "text": [
      "/tmp/ipykernel_125966/3210251214.py:17: MatplotlibDeprecationWarning: The 'labels' parameter of boxplot() has been renamed 'tick_labels' since Matplotlib 3.9; support for the old name will be dropped in 3.11.\n",
      "  plt.boxplot(M_values_all, labels=[f'N={N}' for N in N_values])\n"
     ]
    },
    {
     "data": {
      "image/png": "[encoded data removed]",
      "text/plain": [
       "<Figure size 1000x600 with 1 Axes>"
      ]
     },
     "metadata": {},
     "output_type": "display_data"
    }
   ],
   "source": [
    "I = 2\n",
    "num_samples = 1000  # Number of samples to run\n",
    "N_values = [5]  # Different values for N\n",
    "M_values_all = []  # To hold M values for each N\n",
    "\n",
    "# Collect M values across multiple samples for different N\n",
    "for N in N_values:\n",
    "    M_values = []\n",
    "    for _ in range(num_samples):\n",
    "        p = np.random.uniform(0, 1, N)  # Generate random probabilities p\n",
    "        sampler = RejectionSampling(p, I)\n",
    "        M_values.append(sampler.M)\n",
    "    M_values_all.append(M_values)\n",
    "\n",
    "# Create a boxplot for each N\n",
    "plt.figure(figsize=(10, 6))\n",
    "plt.boxplot(M_values_all, labels=[f'N={N}' for N in N_values])\n",
    "plt.title('Boxplot of M Values for Different N')\n",
    "plt.ylabel('M')\n",
    "plt.xlabel('N')\n",
    "plt.show()"
   ]
  },
  {
   "cell_type": "code",
   "execution_count": 4,
   "metadata": {},
   "outputs": [
    {
     "name": "stderr",
     "output_type": "stream",
     "text": [
      "/tmp/ipykernel_125966/2752977224.py:17: MatplotlibDeprecationWarning: The 'labels' parameter of boxplot() has been renamed 'tick_labels' since Matplotlib 3.9; support for the old name will be dropped in 3.11.\n",
      "  plt.boxplot(M_values_all, labels=[f'N={N}' for N in N_values])\n"
     ]
    },
    {
     "data": {
      "image/png": "[encoded data removed]",
      "text/plain": [
       "<Figure size 1000x600 with 1 Axes>"
      ]
     },
     "metadata": {},
     "output_type": "display_data"
    }
   ],
   "source": [
    "I = 2\n",
    "num_samples = 10000  # Number of samples to run\n",
    "N_values = [5,6,7,8,9]  # Different values for N\n",
    "M_values_all = []  # To hold M values for each N\n",
    "\n",
    "# Collect M values across multiple samples for different N\n",
    "for N in N_values:\n",
    "    M_values = []\n",
    "    for _ in range(num_samples):\n",
    "        p = np.random.uniform(0, 1, N)  # Generate random probabilities p\n",
    "        sampler = RejectionSampling(p, I)\n",
    "        M_values.append(sampler.M)\n",
    "    M_values_all.append(M_values)\n",
    "\n",
    "# Create a boxplot for each N\n",
    "plt.figure(figsize=(10, 6))\n",
    "plt.boxplot(M_values_all, labels=[f'N={N}' for N in N_values])\n",
    "plt.title('Boxplot of M Values for Different N')\n",
    "plt.ylabel('M')\n",
    "plt.xlabel('N')\n",
    "plt.show()"
   ]
  },
  {
   "cell_type": "markdown",
   "metadata": {},
   "source": [
    "## Question 2\n",
    "\n",
    "Implementation of the algorithm. This make a \"real\" conditional Bernoulli according to the paper."
   ]
  },
  {
   "cell_type": "code",
   "execution_count": 5,
   "metadata": {},
   "outputs": [],
   "source": [
    "def sample_conditional_bernoulli(p , I : int):\n",
    "    \"\"\" Take as parametter a list or an array p, which represent the vector of probabilities\n",
    "     and an int I the bound for x_1+ ...+x_n\n",
    "    \"\"\"\n",
    "    \n",
    "    #initialization\n",
    "    p = np.array(p)\n",
    "    N = len(p)\n",
    "    q = np.zeros((I + 1, N))\n",
    "    \n",
    "    #first condition, if I =0, the conditionnal bernouilli is obviously a vector of 0, for all n in [N] ([N] = {1,...,N})\n",
    "    if I == 0:\n",
    "        return np.array([0 for k in range(N)])\n",
    "    else : \n",
    "\n",
    "        # first conditions (first raw is just the product of the probabilities)\n",
    "        for n in range(N):\n",
    "            q[0][n] = np.prod(1 - p[n:])\n",
    "\n",
    "        #the last row of the first column is just p_N\n",
    "        q[1][N - 1] = p[N - 1]\n",
    "\n",
    "        # filling of the probability matrix \n",
    "        for n in range(N - 2, -1, -1):\n",
    "            for i in range(1, min(I, N - n) + 1): #+1 because the first row is already made\n",
    "                q[i][n] = p[n] * q[i - 1][n + 1] + (1 - p[n]) * q[i][ n + 1 ]\n",
    "\n",
    "        # sampling\n",
    "        x = np.zeros(N, dtype=int)\n",
    "        for n in range(N):\n",
    "            if I > 0:\n",
    "                prob = q[I, n]\n",
    "                #condition for get exactly I x_n = 1 and not less\n",
    "                if n < N - I and prob !=0: # (actually, the second condition is always true for N finite)\n",
    "                    prob_if_one = p[n] * q[I - 1, n + 1] / prob\n",
    "                    if np.random.rand() < prob_if_one :#We add this ondition to obtain a random variable\n",
    "                        x[n] = 1\n",
    "                        I -=1\n",
    "                    else :\n",
    "                        x[n] = 0\n",
    "                else:\n",
    "                    x[n] = I\n",
    "                    I -= 1\n",
    "        return x"
   ]
  },
  {
   "cell_type": "code",
   "execution_count": 20,
   "metadata": {},
   "outputs": [
    {
     "data": {
      "text/plain": [
       "(4, array([0, 1, 1, 0, 1, 0, 1, 0, 0, 0]))"
      ]
     },
     "execution_count": 20,
     "metadata": {},
     "output_type": "execute_result"
    }
   ],
   "source": [
    "#test\n",
    "\n",
    "x = sample_conditional_bernoulli([1/2 for i in range(10)], 4)\n",
    "np.count_nonzero(x),x\n"
   ]
  },
  {
   "cell_type": "markdown",
   "metadata": {},
   "source": [
    "The construction of the matrix in our ‘sample_conditional_bernoulli’ function is of size $O(N^2)$. Indeed, we know that $I \\alpha N$ at most (because $I \\le \\frac N2$) and so, the double loop is indexed on $\\{1,... N-2\\}$, and then on $\\{1,...,I\\}$ ($I$ proportional to $N$) in the \"best\" case and in the \"worst\" case, the second loop is repeated $N-1$ times. Thus, the complexity of this loop is $O(N^2)$.\n",
    "\n",
    "For the second operation of the algorithm, we just get a loop on $\\{1, \\ldots, n\\}$, thus we get a complexity of $O(N)$.\n",
    "\n",
    "Therefore, we can conclude that the complexity is in order $O(N^2) + O(N) = O(N^2)$."
   ]
  },
  {
   "cell_type": "markdown",
   "metadata": {},
   "source": [
    "## Question 3\n",
    "\n",
    "We now implement a Markov Chain Monte Carlo (MCMC) algorithm to sample from the conditional Bernoulli distribution $\\mathrm{CB}(p, I)$ defined over the space:\n",
    "\n",
    "$$\n",
    "\\Omega' := \\left\\{ x \\in \\{0,1\\}^N \\mid \\sum_{i=1}^N x_i = I \\right\\}\n",
    "$$\n",
    "\n",
    "We initialize a vector $X \\in \\Omega'$ such that $\\sum X_i = I$. For now, $X$ is <u> not random</u> (we simply permute $I$ ones and $N - I$ zeros). Indeed, $P(X_n = k| \\sum_{i=1}^{N}X_i = N) = 0$ if $k \\ne 1$ and $=1$ if $k=1$. Symmetrically, we obviously get $P(X_n = k| \\sum_{i=1}^{N}X_i = 0) = 0$ if $k \\ne 0$ and $=1$ if $k=0$.\n",
    "\n",
    "Note that we exclude the trivial cases where $I = 0$ or $I = N$, since in those cases, the chain would be constant and there is no randomness:\n",
    "\n",
    "- $\\mathrm{CB}(p, N)$ is concentrated on the vector $(1,\\dots,1)$,\n",
    "- $\\mathrm{CB}(p, 0)$ is concentrated on the vector $(0,\\dots,0)$.\n",
    "\n",
    "At each step, we propose a swap between:\n",
    "- a random index $i_1$ where $X_{i_1} = 1$,\n",
    "- and a random index $i_0$ where $X_{i_0} = 0$,\n",
    "\n",
    "and accept this swap with probability:\n",
    "\n",
    "$$\n",
    "\\alpha = \\min\\left(1, \\frac{p_{i_0}/(1 - p_{i_0})}{p_{i_1}/(1 - p_{i_1})} \\right)\n",
    "$$\n",
    "\n",
    "We denote $Y_n$ the current state of the chain, i.e. $Y_n \\in \\Omega'$.\n",
    "\n",
    "Let $Y_n = x$ and let $S_1(x)$ and $S_0(x)$ be the sets of indices where $x_i = 1$ and $x_i = 0$, respectively. \n",
    "\n",
    "At each iteration, the algorithm:\n",
    "- picks $(i_1, i_0) \\in S_1(x) \\times S_0(x)$,\n",
    "- proposes $x' = x$ with entries $i_1 \\leftrightarrow i_0$ swapped,\n",
    "- accepts this move with a probability that depends **only on $x$ and $x'$**, not on earlier history.\n",
    "\n",
    "Hence, the transition probability:\n",
    "\n",
    "$$\n",
    "P(Y_{n+1} = x' \\mid Y_n = x) = q(x \\to x') \\cdot \\alpha(x, x')\n",
    "$$\n",
    "\n",
    "In fact, we get $(Y_i)_{i \\in [num iterations]}$ is a Markov Chain because $Y_i$ just depend on $Y_{i-1}$, for all $n$. \n",
    "\n",
    "Let's prove it. \n",
    "\n",
    "Let $Y_n = (Y_n^{(1)}, \\ldots, Y_n^{(N)})$ a random variable to $\\Omega' = \\big\\{x \\in \\Omega \\mid \\sum_{i=1}^Nx_i = I \\big\\}$ and $i \\in [N]$. Let also the set $I_n \\in [N]$ which represent the index $(i)$ where $Y_i^{(i)} = 1$, this set <u>just depend on $Y_i$</u>.\n",
    "\n",
    "Let $i \\in [N], k$ an integer :\n",
    "\n",
    "\\begin{align*}\n",
    "    P(Y_{k+1}^{(i)} = 1)&=P(Y_{k}^{(i)} = 0)[P(Y_{k+1}^{(i)} = 1| Y_{k}^{(i)} = 0)] + P(Y_{k}^{(i)} = 1)[P(Y_{k+1}^{(i)} = 1| Y_{k}^{(i)} = 1)]\\\\\n",
    "    &= \\frac{N-I}{N}[1-\\frac{1}{N-I}\\min(1, \\sum_{j\\in I_n} \\frac{1-p_i}{1-p_j})] + \\frac{I}{N}[1-P(Y_{k+1}^{(i)} = 0| Y_{k}^{(i)} = 1)] \\\\\n",
    "    & = \\frac{N-I}{N}[1-\\frac{1}{N-I}\\min(1, \\sum_{j\\in I_n} \\frac{1-p_i}{1-p_j})] + \\frac{I}{N}[1-\\frac 1I \\min(1, \\frac{\\sum_{i \\in I_n^c}1-p_j}{1-p_i})]\n",
    "\\end{align*}\n",
    "\n",
    "(Note that we could just left the value $P(Y_{k}^{(i)} = 0)$ to show the property)\n",
    "\n",
    "With the same reasoning on $P(Y_{k+1}^{(i)}=0)$, we can conclude that ($Y_i$) is a Markov chain, because it just depend on the previous value of $Y_{k-1}$. \n",
    "\n",
    "So, $(Y_i)$ does depend only on the **current state** $x = Y_n$.  \n",
    "\n",
    "\n",
    "Therefore, the process $(Y_n)_{n\\geq 0}$ satisfies the **Markov property**:\n",
    "\n",
    "$$\n",
    "\\mathbb{P}(Y_{n+1} \\mid Y_n, Y_{n-1}, \\dots, Y_0) = \\mathbb{P}(Y_{n+1} \\mid Y_n)\n",
    "$$\n",
    "\n",
    "- The MCMC algorithm uses **local proposals** (1-to-0 and 0-to-1 swaps),\n",
    "- The chain is **Markovian** by construction,\n",
    "\n",
    "We can now use this chain to sample approximately from the conditional Bernoulli distribution $\\mathrm{CB}(p, I)$. (See the proof below)\n",
    "\n",
    "\n",
    "<!-- ---\n",
    "\n",
    "Let's implement the MCMC (Markov Chain Monte Carlo).\n",
    "\n",
    "For this, we initialize a vector $X$ which respect the condition $\\sum_{i=1}^{N}X_i = I$ (for the moment, X is NOT random). After, if I isn't equal to $0$ or $N$ (because there is no random with that configuration), indeed, $P(X_n = k| \\sum_{i=1}^{N}X_i = N) = 0$ if $k \\ne 1$ and $=1$ if $k=1$. Symmetrically, we obviously get $P(X_n = k| \\sum_{i=1}^{N}X_i = 0) = 0$ if $k \\ne 0$ and $=1$ if $k=0$.\n",
    "\n",
    "Afterward, we just \"swap\" the different element of our vector $X$ with probability \"$\\min(1,\\frac{w_{i_0}}{w_{i_1}})$\" like it is indicated in the paper.\n",
    "\n",
    "In this algorithm,\n",
    "$(Y_i)_{i \\in [num iterations]}$ is a Markov Chain because $Y_i$ just depend on $Y_{i-1}$, for all $n$. Let's prove it. Let $Y_n = (Y_n^{(1)}, \\ldots, Y_n^{(N)})$ a random variable to $\\Omega' = \\big\\{x \\in \\Omega \\mid \\sum_{i=1}^Nx_i = I \\big\\}$ and $i \\in [N]$. Let also the set $I_n \\in [N]$ which represent the index $(i)$ where $Y_i^{(i)} = 1$, this set <u>just depend on $Y_i$</u>.\n",
    "\n",
    "Let $i \\in [N], k$ an integer :\n",
    "\n",
    "\\begin{align*}\n",
    "    P(Y_{k+1}^{(i)} = 1)&=P(Y_{k}^{(i)} = 0)[P(Y_{k+1}^{(i)} = 1| Y_{k}^{(i)} = 0)] + P(Y_{k}^{(i)} = 1)[P(Y_{k+1}^{(i)} = 1| Y_{k}^{(i)} = 1)]\\\\\n",
    "    &= \\frac{N-I}{N}[1-\\frac{1}{N-I}\\min(1, \\sum_{j\\in I_n} \\frac{1-p_i}{1-p_j})] + \\frac{I}{N}[1-P(Y_{k+1}^{(i)} = 0| Y_{k}^{(i)} = 1)] \\\\\n",
    "    & = \\frac{N-I}{N}[1-\\frac{1}{N-I}\\min(1, \\sum_{j\\in I_n} \\frac{1-p_i}{1-p_j})] + \\frac{I}{N}[1-\\frac 1I \\min(1, \\frac{\\sum_{i \\in I_n^c}1-p_j}{1-p_i})]\n",
    "\\end{align*}\n",
    "\n",
    "(Note that we could just left the value $P(Y_{k}^{(i)} = 0)$ to show the property)\n",
    "\n",
    "With the same reasoning on $P(Y_{k+1}^{(i)}=0)$, we can conclude that ($Y_i$) is a Markov chain, because it just depend on the previous value of $Y_{k-1}$. -->"
   ]
  },
  {
   "cell_type": "code",
   "execution_count": 7,
   "metadata": {},
   "outputs": [],
   "source": [
    "def mcmc_conditional_bernoulli(p, I : int, num_iterations : int):\n",
    "    p = np.array(p)\n",
    "    N = len(p)\n",
    "    # Let's make a X which respect the constraint sum X_i = I\n",
    "    X = np.zeros(N, dtype=int)\n",
    "    X[:I] = 1\n",
    "    np.random.shuffle(X)\n",
    "    odds = p / (1 - p)\n",
    "    S0 = list(np.where(X == 0)[0])\n",
    "    S1 = list(np.nonzero(X)[0])\n",
    "    \n",
    "    for nb_iter in range(num_iterations):\n",
    "        # random selection of 1 and 0\n",
    "        np.random.shuffle(S0)\n",
    "        np.random.shuffle(S1)\n",
    "\n",
    "        # let's take a random element of our index_0/1\n",
    "        i = S1.pop()\n",
    "        j = S0.pop()\n",
    "\n",
    "        # Compute the probability of acceptance\n",
    "        acceptance_prob = min(1, odds[j] / odds[i])\n",
    "\n",
    "        # reject or acceptance's swap\n",
    "        if np.random.rand() < acceptance_prob: # \"accept with probability acceptance_prob\"\n",
    "            X[i], X[j] = 0, 1\n",
    "            S0.append(i)\n",
    "            S1.append(j) \n",
    "        else : #restores origninals values else\n",
    "            S0.append(j)\n",
    "            S1.append(i)\n",
    "\n",
    "    return X"
   ]
  },
  {
   "cell_type": "code",
   "execution_count": 23,
   "metadata": {},
   "outputs": [
    {
     "data": {
      "text/plain": [
       "497"
      ]
     },
     "execution_count": 23,
     "metadata": {},
     "output_type": "execute_result"
    }
   ],
   "source": [
    "#test\n",
    "x = mcmc_conditional_bernoulli([1/2 for i in range(1_000)],497, 10_000) \n",
    "np.count_nonzero(x)"
   ]
  },
  {
   "cell_type": "markdown",
   "metadata": {},
   "source": [
    "#### Why does this algorithm works ? \n",
    "\n",
    "We already proved that $(Y_i)$ is a Markov Chain to $\\Omega'$. Let's suppose that $(Y_n) \\sim h$, we have $\\pi$ the target probability density of $(X_1, \\ldots X_N| \\sum_{i=1}^{N}X_i = I)$. To apply the Metropolis Hastings algorithm, we need to check out the conditions :\n",
    "\n",
    "- (1) $(Y_i)$ is ergodic (irreducible, recurrent, positive, aperiodic) \n",
    "\n",
    "- (2) reversibility : for all $x,y \\in \\Omega', h(x|y) = h(y|x)$, and thus, show that for all $x,y \\in \\{0,1\\}$, we have $\\pi(x)h(x|y) = \\pi(y)h(y|x)$\n",
    "\n",
    "Then, when we'll show this, we'll have shown that we have simulated the conditional Bernouilli, because $\\pi$ is the conditional law of $X_1, \\ldots, X_n \\sim f,\\quad X_1 \\ldots X_N |\\sum_{i=1}^nX_i=I = \\text{CB}(p,I)$, then we get the targeted density $f$ which is the $n^{th}$ component of $(Y_n)$. But $Y_i^{(n)}$ with (1) and (2) does converge (when $i \\to \\infty$) to $f$, thanks to the ergodic theorem, it will show that this algorithm (Metropolis Hastings) below is valide. \n",
    "\n",
    "\n",
    "the **Markov chain** $(Y_i)_{i \\geq 0}$ on $\\Omega'$ with:\n",
    "\n",
    "- Initial state $Y_0 \\in \\Omega'$, sampled uniformly.\n",
    "- At each iteration $i$, choose a pair $((i,j))$ such that:\n",
    "  - $j1 \\in S_1(Y_i) $ (i.e., $ Y_i[j1] = 1 $),\n",
    "  - $j0 \\in S_0(Y_i) $ (i.e., $ Y_i[j0] = 0 $),\n",
    "- Propose a **swap**: define $(Y_i')_{i \\ge 0}$ by exchanging $Y_i[j0] \\leftrightarrow Y_i[j1]$.\n",
    "- Accept $Y_i'$ with probability:\n",
    "\n",
    "$$\n",
    "\\boxed{\n",
    "\\alpha(Y_i, Y_i') = \\min\\left(1, \\frac{\\pi(Y_i')}{\\pi(Y_i)}\\right) = \\min\\left(1, \\frac{\\text{odds}_{j0}}{\\text{odds}_{j1}} \\right)\n",
    "}\n",
    "\\quad \\text{where } \\text{odds}_{j0} := \\frac{p_{j0}}{1 - p_{j0}}\n",
    "$$\n",
    "\n",
    "Then, $Y_{i+1} = Y_i'$ with probability $\\frac{p_{j0}}{1 - p_{j1}}$ and $Y_{i+1} = Y_i$ elsewhere.\n",
    "\n",
    "\n",
    "And thus, if we proved (1) and (2), we we proved the efficiency of our algorithm thanks to Metropolis Hastings which ensures us that $Y_i \\overset{\\text{(d)}}{\\underset{i \\to \\infty}{\\longrightarrow}} \\pi $.\n"
   ]
  },
  {
   "cell_type": "markdown",
   "metadata": {},
   "source": [
    "<u> Proof :</u>\n",
    "\n",
    "- (1) Because $N$ is finite, $\\Omega'$ is also finite and $(Y_i)_{i \\ge 0}$ is a Markov chain irreducible (clearly, because, all the state of $\\Omega'$ are available and communicate) to $\\Omega'$ finite. Thus we can say that ($Y_i$) is also recurrent and positive. Furthermore, for all state $x \\in \\Omega'$, we can find a period stay to this stat with probability not null, and thus, our chain $(Y_i)_{i \\ge 0}$ is aperiodic. Thus $(Y_i)_{i \\ge 0}$ is an ergodic Markov Chain and so does converge to it's invariant probability $\\pi$.\n",
    "\n",
    "- (2) $h$ is the probability density of $(Y_i)_{i \\ge 0}$, because the problem is symmetrical, that is clear that for all $x,y \\in \\Omega'$, we get \n",
    "\n",
    "$$h(x|y) = P(Y_{k+1} = x|Y_k = y) = P(Y_{k+1} = y|Y_k = x) = h(y|x)$$\n",
    "\n",
    "Thus, because $\\pi(x)$ is the density of $X_1, \\ldots, X_n | \\sum_{i=1}^nX_i=I$, we get \n",
    "\n",
    "$$\\pi(x)\\alpha \\frac{dP_{X_1, \\ldots, X_n}(x,I)}{d \\mu \\otimes \\mu} \\alpha \\Pi_{i=1}^N p_i^{X_i}(1-p_i)^{1-X_i} = \\Pi_{i=1}^N (\\frac{p_i}{1-p_i})^{X_i}(1-p_i) = \\Pi_{i=1}^N(1-p_i) \\times \\Pi_{i=1}^N (\\frac{p_i}{1-p_i})^{X_i} \\alpha \\Pi_{i=1}^N (\\frac{p_i}{1-p_i})^{X_i} =  \\Pi_{i=1}^N (\\text{odds}_i)^{X_i}$$\n",
    "\n",
    " (with $\\mu$ the counting measuring). So, we can now conclude because let $x,y \\in \\Omega'$, we get \n",
    "\n",
    "\\begin{align*}\n",
    "    \\pi(x)h(x|y) &= \\pi(y)h(y|x)\\\\\n",
    "    \\iff \\pi(x)&=\\pi(y)\\\\\n",
    "    \\iff \\frac{p_i^{X_i}(1-p_i)^{1-X_i}}{p_i^{X_i}(1-p_i)^{1-X_i}} &= 1\n",
    "\\end{align*}\n",
    "\n",
    "What is True, so, by the explanation after (1) and (2) in the previous markdown, we showed why this algorithms works. Thus we well have \n",
    "\n",
    "$$\\boxed{Y_i \\overset{\\text{(d)}}{\\underset{i \\to \\infty}{\\longrightarrow}} \\pi} $$\n",
    "\n",
    "According to the previous statement, we get $(Y_i)$ converges in distribution to $\\pi$, the **unique stationary distribution**.\n",
    "\n",
    "- The chain moves **only within the constrained set**  $\\Omega'$.\n",
    "- Each transition corresponds to swapping a 1 and a 0 — preserving the total number of 1's.\n",
    "- The **odds ratios** act as importance weights that guide the chain toward configurations favored by \\( p \\).\n",
    "- The Markov chain thus **explores the correct target distribution** over time."
   ]
  },
  {
   "cell_type": "markdown",
   "metadata": {},
   "source": [
    "### How to asses the mixing of our chain $(Y_i)$ ?\n",
    "\n",
    "\n",
    "#### first strategy \n",
    "\n",
    "\n"
   ]
  },
  {
   "cell_type": "markdown",
   "metadata": {},
   "source": [
    "To evaluate the mixing of our Chain, and so, know if $(Y_i)$ visit well all the possible states, we use a **coupling-based strategy**. This permit to evaluate the meeting time of two chain $(Y_i), (\\tilde Y_i)$ and thus, determine the level of mixing of our algorithm. $ (\\tilde Y_i)$ start in an arbitrary state, different from $(Y_i)$. And then, compute the minimum time of meeting of those two chain. The main purpose of the paper is about a non identical distribution of $(p_1, \\ldots p_N)$ thus we'll compute the meeting time in this situation.\n",
    "\n",
    "The main goal here is to assess the velocity of convergence of $(Y_i)$ with our mcmc algorithm.\n",
    "\n",
    "To explain our approach, this algorithm is based on the statement : if two copy of Markov chain $ (Y_i)_{i \\ge 1}$  and $ (\\tilde Y_i)_{i \\ge 1}$ evolve together but from different states, and end up meeting, we can deduce that one of them is near of the other, and thus, there are near there limit law $\\pi$. We already proved why our Markov chain is converging to the conditional Bernoulli law, according to the Metropolis Hastings algorithm, so we can use the convergence of our two Markov chain.\n",
    "\n",
    "\n",
    "Moreover, we can arg a little bit more mathematically, if we the state that \n",
    "\n",
    "- $ (Y_i)$, starting from an arbitrary state $ x \\in \\Omega'$,\n",
    "- $ (\\tilde{Y}_i) $, starting from a different state $ \\tilde{x} \\in \\Omega'$ at **Hamming distance 2** from $( x )$.\n",
    "\n",
    "We then run both chains simultaneously using a **maximally coupled transition kernel**, and we record the **first time** they meet (i.e., become equal). This time is called the **meeting time**, denoted :\n",
    "\n",
    "$$\\boxed{\\tau := \\inf\\big\\{ t \\ge 1 \\mid Y_t = \\tilde Y_t \\big\\}}$$ \n",
    "\n",
    "This approach is based on the fundamental coupling inequality:\n",
    "\n",
    "$$\\lVert \\text{Law}(Y_t) - \\pi \\rVert_{\\mathrm{TV}} \\leq \\mathbb{P}(Y_t \\neq \\tilde{Y}_t)$$\n",
    "\n",
    "Moreover, this probability is estimated by averaging over multiple simulations:\n",
    "\n",
    "$$ \\{\\omega \\mid Y_t(\\omega) \\neq \\tilde{Y}_t(\\omega) \\}= \\{\\omega \\mid \\tau(\\omega) > t \\}  \\quad \\implies \\quad \\mathbb{P}(Y_t \\neq \\tilde{Y}_t) = \\mathbb{P}(\\tau > t) $$\n",
    "\n",
    "In practice, we generate many coupled pairs $(Y_i, \\tilde{Y}_i)$, compute the corresponding meeting times $( \\tau_i )$, and choose the smallest time $ t$ such that:\n",
    "\n",
    "$$\\frac{1}{M} \\sum_{i=1}^M \\mathbf{1}_{\\{\\tau_i > t\\}} \\leq \\varepsilon$$\n",
    "\n",
    "Note that here, $\\tau_i$ are deterministic, (after computing), to avoid an abuse of language, we can say this is \"knowing $\\tau_i$\". In other word :\n",
    "\n",
    "$$\\lVert \\text{Law}(Y_t))-\\pi \\rVert_{TV}  \\le P(Y_t \\ne \\tilde Y_t) \\le \\mathbb{E}(\\mathbb{1}_{d^{(t)} > 0}) = P(d^{(t)} > 0) = P(\\omega \\in \\Omega \\mid \\tau(\\omega) >t)$$\n",
    "\n",
    "\n",
    "This procedure helps assess how fast two initially distinct trajectories \"forget\" their initial state and converge to the same stationary distribution, providing insight into the convergence rate of the algorithm under non-uniform probability vectors $p_1 \\ldots p_N$"
   ]
  },
  {
   "cell_type": "code",
   "execution_count": 9,
   "metadata": {},
   "outputs": [],
   "source": [
    "def swap_mcmc(x, y, p):\n",
    "    \"\"\"\n",
    "    return the common swap of x,y like the function mcmc_conditional_bernoulli for just one iteration.\n",
    "    That function DOES NOT WORKS if I=N or I=0, but in this case, there is no need to check the mixing. \n",
    "    \"\"\"\n",
    "    x, y = x.copy(), y.copy()\n",
    "    odds = p / (1 - p)\n",
    "    # Making the different set presented in 2.2\n",
    "    S0_x = list(np.where(x == 0)[0])\n",
    "    S1_x = list(np.nonzero(x)[0])\n",
    "    S0_y = list(np.where(y == 0)[0])\n",
    "    S1_y = list(np.nonzero(y)[0])\n",
    "    if len(S0_x) == 0 or len(S1_x) == 0 or len(S0_y) == 0 or len(S1_y) == 0:\n",
    "        raise ValueError(\"Invalid swap set: one of the chains has I = 0 or I = N.\")\n",
    "\n",
    "    # Maximal coupling for i0\n",
    "    common_S0 = list(set(S0_x) & set(S0_y)) \n",
    "    alpha0 = min(len(common_S0) / len(S0_x), len(common_S0) / len(S0_y))\n",
    "    # Choose a random i, in common S_0, more we have commmon values, more we would choose them\n",
    "    if len(common_S0) > 0 and np.random.rand() < alpha0:\n",
    "        i0 = np.random.choice(common_S0) \n",
    "        j0 = i0\n",
    "    else:\n",
    "        diff_x = list(set(S0_x) - set(S0_y))\n",
    "        diff_y = list(set(S0_y) - set(S0_x))\n",
    "        i0 = np.random.choice(diff_x)\n",
    "        j0 = np.random.choice(diff_y)\n",
    "\n",
    "    # Maximal coupling for i1, same as the previous loop\n",
    "    common_S1 = list(set(S1_x) & set(S1_y))\n",
    "    alpha1 = min(len(common_S1) / len(S1_x), len(common_S1) / len(S1_y))\n",
    "    if len(common_S1) > 0 and np.random.rand() < alpha1:\n",
    "        i1 = np.random.choice(common_S1)\n",
    "        j1 = i1\n",
    "    else:\n",
    "        diff_x = list(set(S1_x) - set(S1_y))\n",
    "        diff_y = list(set(S1_y) - set(S1_x))\n",
    "        i1 = np.random.choice(diff_x)\n",
    "        j1 = np.random.choice(diff_y)\n",
    "\n",
    "    u = np.random.rand()\n",
    "    if u < min(1, odds[i0] / odds[i1]):\n",
    "        x[i0], x[i1] = 1, 0\n",
    "    if u < min(1, odds[j0] / odds[j1]):\n",
    "        y[j0], y[j1] = 1, 0\n",
    "\n",
    "    return x, y\n",
    "\n",
    "def initial_state_hammer(I : int, N : int):\n",
    "    \"\"\" \n",
    "    generate two random vectors x,y which follow x_1+ ... + x_N = I, y_1+ ... + y_N =I AND d(x,y) = somme 1(x_i != y_i) = 2\n",
    "    \"\"\"\n",
    "    x = np.array([1]*I + [0]*(N-I))\n",
    "    np.random.shuffle(x)\n",
    "\n",
    "    idx_1 = np.where(x == 1)[0]\n",
    "    idx_0 = np.where(x == 0)[0]\n",
    "    i1 = np.random.choice(idx_1)\n",
    "    i0 = np.random.choice(idx_0)\n",
    "\n",
    "    y = x.copy()\n",
    "    y[i1], y[i0] = 0, 1\n",
    "\n",
    "    return x,y\n",
    "    \n",
    "def meeting_time(epsilon : float, M : int, I : int, p, L=1):\n",
    "    \"\"\"\n",
    "    Let L be the lag, epsilon the error, M the number of iteration, I like before\n",
    "    \"\"\"\n",
    "    p = np.array(p)\n",
    "    N = len(p)\n",
    "    meeting_time = []\n",
    "    \n",
    "    for _ in range(M) :\n",
    "        x,y = initial_state_hammer(I,N)\n",
    "        tau = 0\n",
    "        while True :\n",
    "            x,y = swap_mcmc(x,y,p)\n",
    "            tau += 1\n",
    "            if np.array_equal(x, y): \n",
    "                meeting_time.append(tau)\n",
    "                break\n",
    "    t = 0\n",
    "    #print(np.mean(meeting_time), np.max(meeting_time), np.min(meeting_time))\n",
    "    while True :\n",
    "        total_variation_t = np.mean([max(0, np.ceil((tau_i - L - t) / L)) for tau_i in meeting_time])\n",
    "        if total_variation_t <= epsilon :\n",
    "            return t\n",
    "        t +=1\n",
    "\n",
    "def probability_generator(N : int): \n",
    "    p = np.array([np.random.uniform(0,1) for _ in range(N)])\n",
    "    return p\n",
    "\n"
   ]
  },
  {
   "cell_type": "code",
   "execution_count": 10,
   "metadata": {},
   "outputs": [
    {
     "data": {
      "text/plain": [
       "598"
      ]
     },
     "execution_count": 10,
     "metadata": {},
     "output_type": "execute_result"
    }
   ],
   "source": [
    "#test : samples = [X.copy()]  # Collect samples \n",
    "\n",
    "p = probability_generator(100)\n",
    "\n",
    "meeting_time(epsilon=0.01,M=500,I=45,p=p) \n",
    "\n"
   ]
  },
  {
   "cell_type": "markdown",
   "metadata": {},
   "source": [
    "Thus, we checked that the mixing time is approximately in order $N \\log(N)$. Let's see it with a plot."
   ]
  },
  {
   "cell_type": "code",
   "execution_count": 11,
   "metadata": {},
   "outputs": [
    {
     "data": {
      "image/png": "[encoded data removed]",
      "text/plain": [
       "<Figure size 1000x600 with 1 Axes>"
      ]
     },
     "metadata": {},
     "output_type": "display_data"
    }
   ],
   "source": [
    "\n",
    "def hamming_distance(x, y):\n",
    "    return np.sum(x != y)\n",
    "\n",
    "def simulate_convergence(I, N, p, M=500, max_steps=100): # max step to avoid infinite loop\n",
    "    distances = np.zeros((M, max_steps))\n",
    "\n",
    "    for m in range(M):\n",
    "        x, y = initial_state_hammer(I, N)\n",
    "        for t in range(max_steps):\n",
    "            distances[m, t] = hamming_distance(x, y)\n",
    "            if np.array_equal(x, y):\n",
    "                # stay at 0 after meeting\n",
    "                distances[m, t:] = 0\n",
    "                break\n",
    "            x, y = swap_mcmc(x, y, p)\n",
    "\n",
    "    # Mean on the M-trajectory\n",
    "    mean_dist = distances.mean(axis=0)\n",
    "    return mean_dist\n",
    "\n",
    "# Parameters\n",
    "N = 50\n",
    "I = 25\n",
    "p = probability_generator(N)\n",
    "M = 500       \n",
    "max_steps = 100\n",
    "\n",
    "# Simulation\n",
    "mean_hamming = simulate_convergence(I, N, p, M=500, max_steps=max_steps)\n",
    "\n",
    "\n",
    "plt.figure(figsize=(10, 6))\n",
    "plt.plot(mean_hamming, label='Average Hamming distance')\n",
    "plt.xlabel(\"Time (iterations MCMC)\")\n",
    "plt.ylabel(\"Average Hamming distance\")\n",
    "plt.title(f\"Convergence of the coupled chain (N={N}, I={I})\")\n",
    "plt.grid(True)\n",
    "plt.legend()\n",
    "plt.tight_layout()\n",
    "plt.show()"
   ]
  },
  {
   "cell_type": "markdown",
   "metadata": {},
   "source": [
    "Let's see a boxplot to understand the distribution and the reliability of that algorithm "
   ]
  },
  {
   "cell_type": "code",
   "execution_count": 12,
   "metadata": {},
   "outputs": [
    {
     "data": {
      "image/png": "[encoded data removed]",
      "text/plain": [
       "<Figure size 800x600 with 1 Axes>"
      ]
     },
     "metadata": {},
     "output_type": "display_data"
    }
   ],
   "source": [
    "def get_meeting_times(I, N, p, M=500, max_steps=1000): # max step to avoid infinite loop\n",
    "    meeting_times = []\n",
    "    for _ in range(M):\n",
    "        x, y = initial_state_hammer(I, N)\n",
    "        for t in range(max_steps):\n",
    "            if np.array_equal(x, y):\n",
    "                meeting_times.append(t)\n",
    "                break\n",
    "            x, y = swap_mcmc(x, y, p)\n",
    "        else:\n",
    "            meeting_times.append(max_steps)  \n",
    "    return meeting_times\n",
    "\n",
    "# Boxplot\n",
    "I = 50\n",
    "N = 100\n",
    "M = 500\n",
    "p = probability_generator(N)\n",
    "\n",
    "meeting_times = get_meeting_times(I=I, N=N, p=p,)\n",
    "plt.figure(figsize=(8, 6))\n",
    "plt.boxplot(meeting_times, vert=False, patch_artist=True)\n",
    "plt.title(f\"Distribution of meeting times N={N} and I={I}, for {M} iterations\")\n",
    "plt.xlabel(\"Iteration untill coupling\")\n",
    "plt.grid(True)\n",
    "plt.tight_layout()\n",
    "plt.show()\n"
   ]
  },
  {
   "cell_type": "markdown",
   "metadata": {},
   "source": [
    "Well, we notice that in average, for $N=100$, we get a meeting time lower than $100\\times \\log(100)$ this is an efficient mixing !  "
   ]
  },
  {
   "cell_type": "markdown",
   "metadata": {},
   "source": [
    "#### Second strategy "
   ]
  },
  {
   "cell_type": "markdown",
   "metadata": {},
   "source": [
    "Though we already have answered this question, we can still propose another way to compute the mixing of the algorithm. The main problem with the previous method is the constraint $\\mathbb X_{\\text{adj}}$ where the Hammer distance is bounded on two. We propose another version where we have $(x)^{(t)}$, $(\\tilde x)^{(t)}$ with $x^{(0)} \\in \\Omega'$ and $\\tilde x \\sim CB(p,I)$, here we will apply the same logical, the same changes for those two chain, and compute the average time meeting. \n",
    "\n",
    "The advantage of that method is to not constraint us to this $\\mathbb X_{\\text{adj}}$ but the drawbacks is that it is more expansive to compute. We also propose another way to compute the distance, more easy to compute. $P(\\tau>t) = \\hat d_{TV} $ here, and it is totally okay according to the inequality above.\n",
    "\n",
    "\n",
    "Mathematically, to explain our method : \n",
    "\n",
    "Let:\n",
    "- $x^{(0)} \\in \\Omega'$ be an arbitrary initial state such that $\\sum x_i = I$,\n",
    "- $\\tilde{x}^{(0)} \\sim \\text{CB}(p, I)$, drawn from the true target distribution.\n",
    "\n",
    "Then, we evolve both chains $(x^{(t)})_{t \\geq 0}$ and $(\\tilde{x}^{(t)})_{t \\geq 0}$ **using the same coupled transition kernel** (as before), and record the **first time $\\tau$ such that $x^{(\\tau)} = \\tilde{x}^{(\\tau)}$**.\n",
    "\n",
    "This method is simpler to implement, since we do not require the chains to be initialized at a specific distance, and the coupling mechanism is the same.\n",
    "\n",
    "According to the coupling inequality, we still have:\n",
    "\n",
    "$$\n",
    "\\lVert \\text{Law}(x^{(t)}) - \\pi \\rVert_{TV} \\leq \\mathbb{P}(x^{(t)} \\neq \\tilde{x}^{(t)}) = \\mathbb{P}(\\tau > t)\n",
    "$$\n",
    "\n",
    "So by estimating $\\mathbb{P}(\\tau > t)$ empirically, we directly obtain an **upper bound** on the total variation distance to stationarity.\n",
    "\n",
    "Letting $\\hat{\\tau}_1, \\dots, \\hat{\\tau}_M$ be $M$ i.i.d. meeting times, we approximate:\n",
    "\n",
    "$$\n",
    "\\hat{d}_{TV}(t) := \\frac{1}{M} \\sum_{i=1}^M \\mathbf{1}_{\\hat{\\tau}_i > t}\n",
    "$$\n",
    "\n",
    "and return the **smallest $t$ such that $\\hat{d}_{TV}(t) \\leq \\varepsilon$**.\n"
   ]
  },
  {
   "cell_type": "code",
   "execution_count": 13,
   "metadata": {},
   "outputs": [],
   "source": [
    "def initial_state(I : int, N : int):\n",
    "    \"\"\" \n",
    "    generate random vector x which follow x_1+ ... + x_N = I\n",
    "    \"\"\"\n",
    "    x =np.array([1]*I + [0]*(N-I))\n",
    "    np.random.shuffle(x)\n",
    "    return x\n",
    "\n",
    "def alternative_mcmc_meeting_time(epsilon : float, M : int, I : int, p):\n",
    "    \"\"\"\n",
    "    Alternative way to compute the mixing of our chain, that's normal that the meeting time is larger than the previous method, we do not restrein us to the case where \n",
    "    the Hammer distance is equal to two. \n",
    "    \"\"\"\n",
    "    p = np.array(p)\n",
    "    N = len(p)\n",
    "    meeting_time = []\n",
    "    for _ in range(M):\n",
    "        tau = 0 \n",
    "        x = initial_state(I,N)\n",
    "        y = sample_conditional_bernoulli(p,I)\n",
    "        while True :\n",
    "            x,y = swap_mcmc(x,y,p)\n",
    "            tau += 1\n",
    "            if np.array_equal(x, y): \n",
    "                meeting_time.append(tau)\n",
    "                break\n",
    "    t = 0\n",
    "    while True:\n",
    "        total_variation_t = np.mean([tau > t for tau in meeting_time])\n",
    "        if total_variation_t <= epsilon:\n",
    "            return t\n",
    "        t += 1\n",
    "        "
   ]
  },
  {
   "cell_type": "code",
   "execution_count": 14,
   "metadata": {},
   "outputs": [
    {
     "data": {
      "text/plain": [
       "2830"
      ]
     },
     "execution_count": 14,
     "metadata": {},
     "output_type": "execute_result"
    }
   ],
   "source": [
    "# Let's try our alternative algorithm\n",
    "\n",
    "p = probability_generator(100)\n",
    "\n",
    "alternative_mcmc_meeting_time(epsilon=0.01,M=500,I=50,p=p) "
   ]
  },
  {
   "cell_type": "markdown",
   "metadata": {},
   "source": [
    "Obviously, like we would expect, the meeting time is much larger. \n",
    "\n",
    "We can in other hand identify different pros of our method : our algorithm is general, conceptually clean, with no artificial distance constraint subject to requiring a sampling from $\\text{CB}(p,I)$, which can be **computationally costly**... \n",
    "\n",
    "Indeed, meeting times may be larger on average than in the adjacent initialization case.. "
   ]
  },
  {
   "cell_type": "markdown",
   "metadata": {},
   "source": [
    "#### Third strategy "
   ]
  },
  {
   "cell_type": "markdown",
   "metadata": {},
   "source": [
    "Finally, we present a third and more theoretically grounded method for estimating the mixing time of our Markov chain.  \n",
    "We implement **Algorithm 1** from the paper _\"Estimating Convergence of Markov Chains with L-Lag Couplings\"_ by Biswas, Jacob, and Vanetti (2019), which provides a way to estimate the **total variation distance** of a Markov chain.\n",
    "\n",
    "\n",
    "We aim to estimate the quantity:\n",
    "\n",
    "$$\n",
    "d_{\\text{TV}}(\\mathcal{L}(x_t), \\pi)\n",
    "$$\n",
    "\n",
    "where:\n",
    "- $\\mathcal{L}(x_t)$ is the law of the Markov chain at time $t$,\n",
    "- $\\pi$ is the target distribution (here, the conditional Bernoulli law $\\text{CB}(p, I)$).\n",
    "\n",
    "Since we do not know $\\mathcal{L}(x_t)$ explicitly, we **construct a coupling** between two chains:\n",
    "- $(x_t)$, evolving from an arbitrary initial state in $\\Omega'$,\n",
    "- $(y_{t-L})$, a second chain started from another state and updated in parallel,\n",
    "with a **temporal lag** $L$ between them.\n",
    "\n",
    "So to compute it, we can say that while $(x_t) \\ne (y_{t-L})$, Law $(x_t) \\ne \\pi$. So, we just have to compute the meeting times and look at them."
   ]
  },
  {
   "cell_type": "markdown",
   "metadata": {},
   "source": [
    "Mathematically, we simulate the two chains with lag $L$ using the same coupled kernel, and define the **meeting time** $\\tau^{(L)}$ as:\n",
    "\n",
    "$$\\tau^{(L)} = \\inf\\{t \\ge L \\mid x_t = y_{t - L} \\}$$\n",
    "\n",
    "according to the paper, we know that \n",
    "\n",
    "$$d_{\\text{TV}}(\\mathcal{L}(x_t), \\pi) \\le \\mathbb{E}[\\max(0, \\lceil \\frac{\\tau^{(L)}-L-t}{L}\\rceil)] $$\n",
    "\n",
    "This estimator is **guaranteed to upper-bound** the variation distance and is **monotonically decreasing** in $t$.  \n",
    "It provides a **rigorous and practical tool** to quantify convergence.\n",
    "\n",
    "with $\\tau^{(L)}$ the meeting time for lag $L$. Thus, this is obvious that it is decreasing with $t$. This method is for us better than the previous, the hammer method is restricted in the case where the hamming distance is equal to 2, and the second is very expensive to compute. This below algorithm is based on theoretical result guaranteed and is not slow to compute. "
   ]
  },
  {
   "cell_type": "code",
   "execution_count": 15,
   "metadata": {},
   "outputs": [],
   "source": [
    "def algorithm_1_L_lag_coupling(L, M, I, p):\n",
    "    \"\"\"\n",
    "    Implementation of the first algorithm of the paper.\n",
    "    Compute and return the meeting time τ^{(L)}\n",
    "    \"\"\"\n",
    "    p = np.array(p)\n",
    "    N = len(p)\n",
    "    meeting_times = []\n",
    "\n",
    "    for _ in range(M):\n",
    "        # Initialisation\n",
    "        x = initial_state(I, N)  # X_0\n",
    "        X_chain = [x]\n",
    "        for _ in range(L):  # Génerate X_1,...,X_L\n",
    "            x = swap_mcmc(x, x, p)[0]\n",
    "            X_chain.append(x)\n",
    "\n",
    "        y = initial_state(I, N)  # Y_0\n",
    "\n",
    "        t = L\n",
    "        while True:\n",
    "            x_new, y_new = swap_mcmc(X_chain[-1], y, p)\n",
    "            X_chain.append(x_new)\n",
    "            y = y_new\n",
    "            if np.array_equal(x_new, y):\n",
    "                meeting_times.append(t)\n",
    "                break\n",
    "            t += 1\n",
    "\n",
    "    return meeting_times"
   ]
  },
  {
   "cell_type": "code",
   "execution_count": 16,
   "metadata": {},
   "outputs": [],
   "source": [
    "def estimate_total_variation(tau_L_list, L, t_max):\n",
    "    \"\"\"\n",
    "    Estimate the total variation distance d_{TV}(π_t=law(x_t), π)\n",
    "    from meeting times τ^{(L)} for all t ≤ t_max \n",
    "\n",
    "    Return : table numpy with d_TV estimate for t = 0, ..., t_max\n",
    "    \"\"\"\n",
    "    tau_L = np.array(tau_L_list)\n",
    "    M = len(tau_L)\n",
    "    d_tv = []\n",
    "\n",
    "    for t in range(t_max + 1):\n",
    "        # for each t, we compute the contribution max(0, ceil((τ - L - t) / L)) for each trajectory\n",
    "        individual_bounds = []\n",
    "        for tau in tau_L:\n",
    "            bound = (tau - L - t) / L\n",
    "            bound = max(0,np.ceil(bound))\n",
    "            #print(bound)\n",
    "            individual_bounds.append(bound)\n",
    "\n",
    "        # empirical mean : we asses the uppper bound of d_TV(π_t, π)\n",
    "        d_tv_t = np.mean(individual_bounds)\n",
    "        d_tv.append(d_tv_t)\n",
    "\n",
    "    return np.array(d_tv)\n"
   ]
  },
  {
   "cell_type": "code",
   "execution_count": 17,
   "metadata": {},
   "outputs": [],
   "source": [
    "p = probability_generator(N=50)\n",
    "meeting_times = algorithm_1_L_lag_coupling(L=1, M=500, I=25, p=p)"
   ]
  },
  {
   "cell_type": "markdown",
   "metadata": {},
   "source": [
    "Let's show as before a histogram to see how are distributed the meeting times, for $M=500$, $I=25$ and $N = 50$."
   ]
  },
  {
   "cell_type": "code",
   "execution_count": 18,
   "metadata": {},
   "outputs": [
    {
     "data": {
      "image/png": "[encoded data removed]",
      "text/plain": [
       "<Figure size 640x480 with 1 Axes>"
      ]
     },
     "metadata": {},
     "output_type": "display_data"
    }
   ],
   "source": [
    "plt.hist(meeting_times, bins=30)\n",
    "plt.xlabel(\"τ^(L)\")\n",
    "plt.ylabel(\"Frequency\")\n",
    "plt.title(\"Histogram of meeting times \\\"L-Lag\\\" \")\n",
    "plt.grid(True)\n",
    "plt.show()"
   ]
  },
  {
   "cell_type": "markdown",
   "metadata": {},
   "source": [
    "And now, we'll show how is decreasing the estimated total variation with number of iteration."
   ]
  },
  {
   "cell_type": "code",
   "execution_count": 19,
   "metadata": {},
   "outputs": [
    {
     "data": {
      "image/png": "[encoded data removed]",
      "text/plain": [
       "<Figure size 640x480 with 1 Axes>"
      ]
     },
     "metadata": {},
     "output_type": "display_data"
    }
   ],
   "source": [
    "tau_L = algorithm_1_L_lag_coupling(L=1, M=500, I=25, p=p)\n",
    "d_tv_values = estimate_total_variation(tau_L, L=1, t_max=300)\n",
    "\n",
    "plt.plot(d_tv_values)\n",
    "plt.xlabel(\"t\")\n",
    "plt.ylabel(\"Estimated TV distance\")\n",
    "plt.title(\"Estimated d_TV(π_t, π) via L-lag Coupling\")\n",
    "plt.grid(True)\n",
    "plt.show()"
   ]
  },
  {
   "cell_type": "markdown",
   "metadata": {},
   "source": [
    "Thus, we can also identify different pros :\n",
    "\n",
    "- Theoretical Guarantee : Upper bound on $d_{\\text{TV}}$ based on a proven inequality\n",
    "- general and not restricted like the first method\n",
    "- Efficient : Much faster than parallel chain couplings for high accuracy\n",
    "\n",
    "and some cons :\n",
    "\n",
    "-  Requires trajectory storage — One needs to keep $x_0, ..., x_t$ $\\implies$ costly in memory."
   ]
  }
 ],
 "metadata": {
  "kernelspec": {
   "display_name": "base",
   "language": "python",
   "name": "python3"
  },
  "language_info": {
   "codemirror_mode": {
    "name": "ipython",
    "version": 3
   },
   "file_extension": ".py",
   "mimetype": "text/x-python",
   "name": "python",
   "nbconvert_exporter": "python",
   "pygments_lexer": "ipython3",
   "version": "3.12.9"
  }
 },
 "nbformat": 4,
 "nbformat_minor": 2
}
