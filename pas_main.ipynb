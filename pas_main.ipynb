{
 "cells": [
  {
   "cell_type": "code",
   "execution_count": 1,
   "metadata": {},
   "outputs": [],
   "source": [
    "import numpy as np\n",
    "import itertools\n",
    "import matplotlib.pyplot as plt\n",
    "from scipy.stats import geom"
   ]
  },
  {
   "cell_type": "markdown",
   "metadata": {},
   "source": [
    "# question 1"
   ]
  },
  {
   "cell_type": "code",
   "execution_count": 17,
   "metadata": {},
   "outputs": [],
   "source": [
    "class Rejection_sampler:\n",
    "    def __init__(self, p, I):  # Default value for m\n",
    "        self.p = np.array(p)\n",
    "        self.I = I\n",
    "        self.N = len(p)\n",
    "        \n",
    "        if self.I <= 0 or self.I >= self.N :\n",
    "            raise ValueError(\"I out of bound ( I does not belong to [1,...,N-1])\")\n",
    "        if np.count_nonzero(self.p) < self.I:\n",
    "            raise ValueError(\"p is such that it's impossible to simulate a random variable following CB(p,I)\")\n",
    "        \n",
    "        self.g = self.pdf_bernoulli()  # Bernoulli probability function\n",
    "        self.f = self.pdf_cb()  # Conditional probability function\n",
    "        self.M = self.compute_M()  # Compute M\n",
    "        self._sample = None\n",
    "        self._acceptances = None\n",
    "    \n",
    "    def compute_M(self):\n",
    "        \"\"\"Computes M based on given m and probability ratios\"\"\"\n",
    "        res = 1\n",
    "        for seq in self.generate_sequences(self.N, self.I):  # Corrected N and I\n",
    "            pr = self.f(seq) / self.g(seq)  # Fix missing self.\n",
    "            if pr > res:\n",
    "                res = pr\n",
    "        return res\n",
    "\n",
    "    def pdf_cb(self, p = None, I = None):\n",
    "        \"\"\"Computes a conditional probability function\"\"\"\n",
    "        if p == None:\n",
    "            g = self.g\n",
    "            p = self.p\n",
    "        if I == None:\n",
    "            I = self.I\n",
    "        p = np.array(p)\n",
    "        \n",
    "        proba = 0\n",
    "        for x in self.generate_sequences(self.N, I):\n",
    "            proba += g(x)\n",
    "\n",
    "        def f(x):\n",
    "            return g(x) / proba if np.sum(x) == I else 0  # Use np.sum(x)\n",
    "\n",
    "        return f\n",
    "\n",
    "    @staticmethod\n",
    "    def generate_sequences(N, I):\n",
    "        \"\"\"Generates all binary sequences of length N with I ones\"\"\"\n",
    "        positions = itertools.combinations(range(N), I)\n",
    "        sequences = []\n",
    "        for pos in positions:\n",
    "            seq = np.zeros(N, dtype=int)  # Start with all zeros\n",
    "            seq[list(pos)] = 1  # Set the specified positions to 1\n",
    "            sequences.append(seq)\n",
    "        return np.array(sequences)\n",
    "    \n",
    "    def pdf_bernoulli(self, p=None):\n",
    "        \"\"\"Creates a Bernoulli probability function\"\"\"\n",
    "        if p == None :\n",
    "            p = self.p\n",
    "        def g(x):\n",
    "            return np.prod(np.where(x == 1, p, 1 - p))\n",
    "        return g\n",
    "    \n",
    "    def sample(self,L=1):\n",
    "        samples = []\n",
    "        acceptances = []\n",
    "        while len(samples) < L:\n",
    "            attempt = 0\n",
    "            while True:\n",
    "                attempt += 1 \n",
    "                X = np.array([np.random.binomial(1, p_i) for p_i in self.p])\n",
    "                U = np.random.uniform(0,1)\n",
    "                if U<=(self.f(X)/(self.g(X)*(self.M))):\n",
    "                    samples.append(X)\n",
    "                    acceptances.append(attempt)\n",
    "                    break\n",
    "        self._sample=np.array(samples)\n",
    "        self._acceptances = np.array(acceptances)\n",
    "    \n",
    "    def plot_acceptance_density(self):\n",
    "        \"\"\"Plots the empirical density function and the theoretical Geometric(1/M) density.\"\"\"\n",
    "        if self._acceptances is None:\n",
    "            raise Exception(\"No samples generated yet. Run sample() first.\")\n",
    "\n",
    "        unique, counts = np.unique(self._acceptances, return_counts=True)\n",
    "        empirical_density = counts / np.sum(counts)  # Normalize to get probability values\n",
    "\n",
    "        # Theoretical geometric distribution with success probability 1/M\n",
    "        k_values = np.arange(1, max(unique) + 1)  # Range of values for plotting\n",
    "        theoretical_density = geom.pmf(k_values, 1 / self.M)  # Geometric PMF\n",
    "\n",
    "        plt.figure(figsize=(8, 5))\n",
    "        \n",
    "        # Empirical density as a bar plot\n",
    "        plt.bar(unique, empirical_density, width=0.8, color='b', alpha=0.7, edgecolor='black', label=\"Empirical Density\")\n",
    "        \n",
    "        # Theoretical geometric density as a line plot\n",
    "        plt.plot(k_values, theoretical_density, 'r-o', markersize=4, label=f\"Theoretical Geom(1/{self.M:.2f})\", linewidth=1)\n",
    "\n",
    "        plt.xlabel(\"Number of Attempts Before Acceptance\")\n",
    "        plt.ylabel(\"Probability Density\")\n",
    "        plt.title(\"Empirical vs Theoretical Density of Acceptance Attempts\")\n",
    "        plt.legend()\n",
    "        plt.grid(axis='y', linestyle='--', alpha=0.7)\n",
    "        plt.show()"
   ]
  },
  {
   "cell_type": "markdown",
   "metadata": {},
   "source": [
    "### test exception"
   ]
  },
  {
   "cell_type": "code",
   "execution_count": null,
   "metadata": {},
   "outputs": [
    {
     "ename": "ValueError",
     "evalue": "p is such that it's impossible to simulate a random variable following CB(p,I)",
     "output_type": "error",
     "traceback": [
      "\u001b[1;31m---------------------------------------------------------------------------\u001b[0m",
      "\u001b[1;31mValueError\u001b[0m                                Traceback (most recent call last)",
      "Cell \u001b[1;32mIn[20], line 1\u001b[0m\n\u001b[1;32m----> 1\u001b[0m A \u001b[38;5;241m=\u001b[39m \u001b[43mRejection_sampler\u001b[49m\u001b[43m(\u001b[49m\u001b[43m[\u001b[49m\u001b[38;5;241;43m0\u001b[39;49m\u001b[43m]\u001b[49m\u001b[38;5;241;43m*\u001b[39;49m\u001b[38;5;241;43m10\u001b[39;49m\u001b[43m,\u001b[49m\u001b[43m \u001b[49m\u001b[38;5;241;43m5\u001b[39;49m\u001b[43m)\u001b[49m\n",
      "Cell \u001b[1;32mIn[17], line 10\u001b[0m, in \u001b[0;36mRejection_sampler.__init__\u001b[1;34m(self, p, I)\u001b[0m\n\u001b[0;32m      8\u001b[0m     \u001b[38;5;28;01mraise\u001b[39;00m \u001b[38;5;167;01mValueError\u001b[39;00m(\u001b[38;5;124m\"\u001b[39m\u001b[38;5;124mI out of bound ( I does not belong to [1,...,N-1])\u001b[39m\u001b[38;5;124m\"\u001b[39m)\n\u001b[0;32m      9\u001b[0m \u001b[38;5;28;01mif\u001b[39;00m np\u001b[38;5;241m.\u001b[39mcount_nonzero(\u001b[38;5;28mself\u001b[39m\u001b[38;5;241m.\u001b[39mp) \u001b[38;5;241m<\u001b[39m \u001b[38;5;28mself\u001b[39m\u001b[38;5;241m.\u001b[39mI:\n\u001b[1;32m---> 10\u001b[0m     \u001b[38;5;28;01mraise\u001b[39;00m \u001b[38;5;167;01mValueError\u001b[39;00m(\u001b[38;5;124m\"\u001b[39m\u001b[38;5;124mp is such that it\u001b[39m\u001b[38;5;124m'\u001b[39m\u001b[38;5;124ms impossible to simulate a random variable following CB(p,I)\u001b[39m\u001b[38;5;124m\"\u001b[39m)\n\u001b[0;32m     12\u001b[0m \u001b[38;5;28mself\u001b[39m\u001b[38;5;241m.\u001b[39mg \u001b[38;5;241m=\u001b[39m \u001b[38;5;28mself\u001b[39m\u001b[38;5;241m.\u001b[39mpdf_bernoulli()  \u001b[38;5;66;03m# Bernoulli probability function\u001b[39;00m\n\u001b[0;32m     13\u001b[0m \u001b[38;5;28mself\u001b[39m\u001b[38;5;241m.\u001b[39mf \u001b[38;5;241m=\u001b[39m \u001b[38;5;28mself\u001b[39m\u001b[38;5;241m.\u001b[39mpdf_cb()  \u001b[38;5;66;03m# Conditional probability function\u001b[39;00m\n",
      "\u001b[1;31mValueError\u001b[0m: p is such that it's impossible to simulate a random variable following CB(p,I)"
     ]
    }
   ],
   "source": [
    "sampler = Rejection_sampler([0]*10, 5)"
   ]
  },
  {
   "cell_type": "code",
   "execution_count": null,
   "metadata": {},
   "outputs": [
    {
     "ename": "ValueError",
     "evalue": "I out of bound ( I does not belong to [1,...,N-1])",
     "output_type": "error",
     "traceback": [
      "\u001b[1;31m---------------------------------------------------------------------------\u001b[0m",
      "\u001b[1;31mValueError\u001b[0m                                Traceback (most recent call last)",
      "Cell \u001b[1;32mIn[21], line 1\u001b[0m\n\u001b[1;32m----> 1\u001b[0m A \u001b[38;5;241m=\u001b[39m \u001b[43mRejection_sampler\u001b[49m\u001b[43m(\u001b[49m\u001b[43m[\u001b[49m\u001b[38;5;241;43m0.5\u001b[39;49m\u001b[43m]\u001b[49m\u001b[38;5;241;43m*\u001b[39;49m\u001b[38;5;241;43m10\u001b[39;49m\u001b[43m,\u001b[49m\u001b[43m \u001b[49m\u001b[38;5;241;43m-\u001b[39;49m\u001b[38;5;241;43m1\u001b[39;49m\u001b[43m)\u001b[49m\n",
      "Cell \u001b[1;32mIn[17], line 8\u001b[0m, in \u001b[0;36mRejection_sampler.__init__\u001b[1;34m(self, p, I)\u001b[0m\n\u001b[0;32m      5\u001b[0m \u001b[38;5;28mself\u001b[39m\u001b[38;5;241m.\u001b[39mN \u001b[38;5;241m=\u001b[39m \u001b[38;5;28mlen\u001b[39m(p)\n\u001b[0;32m      7\u001b[0m \u001b[38;5;28;01mif\u001b[39;00m \u001b[38;5;28mself\u001b[39m\u001b[38;5;241m.\u001b[39mI \u001b[38;5;241m<\u001b[39m\u001b[38;5;241m=\u001b[39m \u001b[38;5;241m0\u001b[39m \u001b[38;5;129;01mor\u001b[39;00m \u001b[38;5;28mself\u001b[39m\u001b[38;5;241m.\u001b[39mI \u001b[38;5;241m>\u001b[39m\u001b[38;5;241m=\u001b[39m \u001b[38;5;28mself\u001b[39m\u001b[38;5;241m.\u001b[39mN :\n\u001b[1;32m----> 8\u001b[0m     \u001b[38;5;28;01mraise\u001b[39;00m \u001b[38;5;167;01mValueError\u001b[39;00m(\u001b[38;5;124m\"\u001b[39m\u001b[38;5;124mI out of bound ( I does not belong to [1,...,N-1])\u001b[39m\u001b[38;5;124m\"\u001b[39m)\n\u001b[0;32m      9\u001b[0m \u001b[38;5;28;01mif\u001b[39;00m np\u001b[38;5;241m.\u001b[39mcount_nonzero(\u001b[38;5;28mself\u001b[39m\u001b[38;5;241m.\u001b[39mp) \u001b[38;5;241m<\u001b[39m \u001b[38;5;28mself\u001b[39m\u001b[38;5;241m.\u001b[39mI:\n\u001b[0;32m     10\u001b[0m     \u001b[38;5;28;01mraise\u001b[39;00m \u001b[38;5;167;01mValueError\u001b[39;00m(\u001b[38;5;124m\"\u001b[39m\u001b[38;5;124mp is such that it\u001b[39m\u001b[38;5;124m'\u001b[39m\u001b[38;5;124ms impossible to simulate a random variable following CB(p,I)\u001b[39m\u001b[38;5;124m\"\u001b[39m)\n",
      "\u001b[1;31mValueError\u001b[0m: I out of bound ( I does not belong to [1,...,N-1])"
     ]
    }
   ],
   "source": [
    "sampler = Rejection_sampler([0.5]*10, -1)"
   ]
  },
  {
   "cell_type": "markdown",
   "metadata": {},
   "source": [
    "# question 2"
   ]
  },
  {
   "cell_type": "code",
   "execution_count": 124,
   "metadata": {},
   "outputs": [],
   "source": [
    "class exact_sampler:\n",
    "    def __init__(self,p,I):\n",
    "        self.p = np.array(p)\n",
    "        self.I = I\n",
    "        self.N = len(p)\n",
    "        \n",
    "        if self.I <= 0 or self.I >= self.N :\n",
    "            raise ValueError(\"I out of bound ( I does not belong to [1,...,N-1])\")\n",
    "        if np.count_nonzero(self.p) < self.I:\n",
    "            raise ValueError(\"p is such that it's impossible to simulate a random variable following CB(p,I)\")\n",
    "        \n",
    "        self.q = self.compute_q()\n",
    "        self._sample = None\n",
    "    \n",
    "    def compute_q(self):\n",
    "        q = np.zeros((self.I+1,self.N))\n",
    "        \n",
    "        for n in range(self.N):\n",
    "            q[0][n] = np.prod( 1 - self.p[n:])\n",
    "        \n",
    "        q[1][self.N - 1] = self.p[self.N - 1]\n",
    "        \n",
    "        for n in range(self.N - 2, -1, -1):\n",
    "            for i in range(1, min(self.I, self.N - n) + 1):\n",
    "                q[i][n] = self.p[n] * q[i - 1][n + 1] + (1 - self.p[n]) * q[i][ n + 1 ]\n",
    "        \n",
    "        return q\n",
    "    \n",
    "    def sample_one(self):\n",
    "        X = np.zeros(self.N, dtype = int)\n",
    "        i_n_min_1 = 0\n",
    "        for n in range(self.N - 1):\n",
    "            prob = self.p[n] * self.q[self.I - i_n_min_1 - 1][n+1] / self.q[self.I - i_n_min_1][n]\n",
    "            if np.random.rand() <= prob:\n",
    "                X[n] = 1\n",
    "                i_n_min_1 += 1\n",
    "                if i_n_min_1 == self.I:\n",
    "                    break\n",
    "        if i_n_min_1 != self.I:\n",
    "            X[-1] = 1\n",
    "        return X\n",
    "    \n",
    "    def sample(self, L = 1):\n",
    "        res = []\n",
    "        for _ in range(L):\n",
    "            res.append(self.sample_one())\n",
    "        self._sample = np.array(res)\n",
    "    "
   ]
  },
  {
   "cell_type": "code",
   "execution_count": 125,
   "metadata": {},
   "outputs": [],
   "source": [
    "sampler = exact_sampler([0.5] * 15, 4)"
   ]
  },
  {
   "cell_type": "code",
   "execution_count": 137,
   "metadata": {},
   "outputs": [
    {
     "data": {
      "text/plain": [
       "array([[0, 0, 0, 0, 1, 0, 0, 0, 1, 0, 0, 0, 1, 0, 1]])"
      ]
     },
     "execution_count": 137,
     "metadata": {},
     "output_type": "execute_result"
    }
   ],
   "source": [
    "sampler.sample()\n",
    "sampler._sample"
   ]
  },
  {
   "cell_type": "markdown",
   "metadata": {},
   "source": [
    "# question 3"
   ]
  },
  {
   "cell_type": "code",
   "execution_count": 62,
   "metadata": {},
   "outputs": [],
   "source": [
    "class MCMC_sampler:\n",
    "    def __init__(self,p,I,):\n",
    "        self.p = np.array(p)\n",
    "        self.I = I\n",
    "        self.N = len(p)\n",
    "        \n",
    "        if self.I <= 0 or self.I >= self.N :\n",
    "            raise ValueError(\"I out of bound ( I does not belong to [1,...,N-1])\")\n",
    "        if np.count_nonzero(self.p) < self.I:\n",
    "            raise ValueError(\"p is such that it's impossible to simulate a random variable following CB(p,I)\")\n",
    "        \n",
    "        self.k = int(self.N*np.log(self.N))+1\n",
    "        self._sample = None\n",
    "        self._sequences = None\n",
    "        \n",
    "    \n",
    "    def sample_one(self,k = None, conserve_sequence = False):\n",
    "        res_seq = []\n",
    "        if k is None:\n",
    "            k=self.k\n",
    "        X = np.zeros(self.N, dtype=int)\n",
    "        X[:self.I ] = 1\n",
    "        np.random.shuffle(X)\n",
    "        w = self.p/(1-self.p)\n",
    "        S1 = list(np.nonzero(X)[0])\n",
    "        S0 = list(np.where(X == 0)[0])\n",
    "        for m in range(k):\n",
    "            np.random.shuffle(S0)\n",
    "            np.random.shuffle(S1)\n",
    "            i_0 = S0.pop()\n",
    "            i_1 = S1.pop()\n",
    "            alpha = min(1,w[i_0]/w[i_1])\n",
    "            if np.random.rand() < alpha:\n",
    "                if conserve_sequence : \n",
    "                    res_seq.append(X.copy())\n",
    "                X[i_1],X[i_0] = 0,1\n",
    "                \n",
    "                S0.append(i_1)\n",
    "                S1.append(i_0)\n",
    "            else :\n",
    "                S0.append(i_0)\n",
    "                S1.append(i_1)\n",
    "        \n",
    "        if conserve_sequence:\n",
    "            return (X, np.array(res_seq))\n",
    "        return X\n",
    "    \n",
    "    def sample(self, L=1, k = None, conserve_sequence=False ):\n",
    "        res = []\n",
    "        res_seq = []\n",
    "        for i in range(L):\n",
    "            if conserve_sequence:\n",
    "                X,seq = self.sample_one(k,True)\n",
    "                res.append(X)\n",
    "                res_seq.append(seq)\n",
    "            else:\n",
    "                X = self.sample_one(k)\n",
    "                res.append(X)\n",
    "        self._sample = np.array(res)\n",
    "        if conserve_sequence:\n",
    "            self._sequences = res_seq\n",
    "        return"
   ]
  },
  {
   "cell_type": "markdown",
   "metadata": {},
   "source": [
    "# question 4"
   ]
  }
 ],
 "metadata": {
  "kernelspec": {
   "display_name": "base",
   "language": "python",
   "name": "python3"
  },
  "language_info": {
   "codemirror_mode": {
    "name": "ipython",
    "version": 3
   },
   "file_extension": ".py",
   "mimetype": "text/x-python",
   "name": "python",
   "nbconvert_exporter": "python",
   "pygments_lexer": "ipython3",
   "version": "3.12.9"
  }
 },
 "nbformat": 4,
 "nbformat_minor": 2
}
